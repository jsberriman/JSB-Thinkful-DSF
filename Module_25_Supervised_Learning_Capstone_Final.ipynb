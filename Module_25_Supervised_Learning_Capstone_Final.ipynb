{
  "nbformat": 4,
  "nbformat_minor": 0,
  "metadata": {
    "colab": {
      "name": "Module_25_Supervised_Learning_Capstone_Final.ipynb",
      "provenance": [],
      "collapsed_sections": [
        "Mb17uA3u_Eqp",
        "Nf-Y21Fn4Aeg",
        "BhKxLJBX4H-W",
        "hjaghlSzEQLK",
        "zdX78bSMK0nc"
      ],
      "machine_shape": "hm",
      "include_colab_link": true
    },
    "kernelspec": {
      "name": "python3",
      "display_name": "Python 3"
    },
    "language_info": {
      "codemirror_mode": {
        "name": "ipython",
        "version": 3
      },
      "file_extension": ".py",
      "mimetype": "text/x-python",
      "name": "python",
      "nbconvert_exporter": "python",
      "pygments_lexer": "ipython3",
      "version": "3.7.4"
    },
    "accelerator": "GPU"
  },
  "cells": [
    {
      "cell_type": "markdown",
      "metadata": {
        "id": "view-in-github",
        "colab_type": "text"
      },
      "source": [
        "<a href=\"https://colab.research.google.com/github/jsberriman/JSB-Thinkful-DSF/blob/master/Module_25_Supervised_Learning_Capstone_Final.ipynb\" target=\"_parent\"><img src=\"https://colab.research.google.com/assets/colab-badge.svg\" alt=\"Open In Colab\"/></a>"
      ]
    },
    {
      "cell_type": "markdown",
      "metadata": {
        "colab_type": "text",
        "id": "ea9vDwOvDwQu"
      },
      "source": [
        "## Outline:\n",
        "\n",
        "* My goal for this project is to use supervised learning approaches to explain and predict the rating scores left by consumers, using an NLP/sentiment assessment of text summaries left by the same consumers\n",
        "* The dataset I've chosen is the Amazon Fine Foods Reviews data from Kaggle: https://www.kaggle.com/snap/amazon-fine-food-reviews\n",
        "* The process I hope to follow is outlined as such:\n",
        "  * Explore the data: Understand the nature of features and target, and do initial data cleaning, including identifing any gaps in the data and feature engineering as necessary\n",
        "  * NLP Feature Extraction: leverage some simple NLP tools to extract features from the available data\n",
        "  * Supervised Learning: treating the problem as a classification task, train several supervised learning models, (logistic regression, K Nearest Neighbors, Support Vector Machines, and more).\n",
        "  * Model Comparison Part 1: compare performance of initial models based on accuracy/error rates and identify (3) top-performing models\n",
        "  * Model Tuning: Optimize any relevant hyperparameters or features in (3) top-performing models, seeking better generalizeability, and identify top performer\n",
        "* The questions I'm hoping to explore are:\n",
        "  * Can we effectively train a model to classify and predict consumer rating (1 to 5 stars) using text-based reviews?\n",
        "  * How does binarization of our data, creating a 2-class problem from a 5-class, influence the accuracy of our model(s)?\n",
        "* Significance/Relevance: classification of reviews, prediction of class based on text only features, use of unstructured data to model interval-scale data, product improvement based on positive reviews  "
      ]
    },
    {
      "cell_type": "markdown",
      "metadata": {
        "colab_type": "text",
        "id": "6xEObf8i8BJA"
      },
      "source": [
        "## 1.) Setup: Let's load some of our initial dependencies, enable the Kaggle API, and load our data.  We can add additional imports needed as we go."
      ]
    },
    {
      "cell_type": "code",
      "metadata": {
        "colab_type": "code",
        "id": "hoz5JPT88BJC",
        "colab": {}
      },
      "source": [
        "# initial library imports and data\n",
        "import pandas as pd\n",
        "import numpy as np\n",
        "import matplotlib.pyplot as plt\n",
        "%matplotlib inline\n",
        "import seaborn as sns\n",
        "import zipfile\n",
        "from google.colab import files"
      ],
      "execution_count": 0,
      "outputs": []
    },
    {
      "cell_type": "code",
      "metadata": {
        "colab_type": "code",
        "outputId": "b18b9980-1824-4a93-eb6f-d8eb8a90e686",
        "id": "9jEb_smA8BJG",
        "colab": {
          "resources": {
            "http://localhost:8080/nbextensions/google.colab/files.js": {
              "data": "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",
              "ok": true,
              "headers": [
                [
                  "content-type",
                  "application/javascript"
                ]
              ],
              "status": 200,
              "status_text": ""
            }
          },
          "base_uri": "https://localhost:8080/",
          "height": 92
        }
      },
      "source": [
        "# upload my active Kaggle API key JSON\n",
        "files.upload()"
      ],
      "execution_count": 0,
      "outputs": [
        {
          "output_type": "display_data",
          "data": {
            "text/html": [
              "\n",
              "     <input type=\"file\" id=\"files-f365240a-59df-47c4-bca2-9af64e813a31\" name=\"files[]\" multiple disabled />\n",
              "     <output id=\"result-f365240a-59df-47c4-bca2-9af64e813a31\">\n",
              "      Upload widget is only available when the cell has been executed in the\n",
              "      current browser session. Please rerun this cell to enable.\n",
              "      </output>\n",
              "      <script src=\"/nbextensions/google.colab/files.js\"></script> "
            ],
            "text/plain": [
              "<IPython.core.display.HTML object>"
            ]
          },
          "metadata": {
            "tags": []
          }
        },
        {
          "output_type": "stream",
          "text": [
            "Saving kaggle.json to kaggle.json\n"
          ],
          "name": "stdout"
        },
        {
          "output_type": "execute_result",
          "data": {
            "text/plain": [
              "{'kaggle.json': b'{\"username\":\"johnberriman\",\"key\":\"fcee5980a0d9cfa3d1261fe40a8bb29f\"}'}"
            ]
          },
          "metadata": {
            "tags": []
          },
          "execution_count": 6
        }
      ]
    },
    {
      "cell_type": "code",
      "metadata": {
        "colab_type": "code",
        "id": "-f4AjCHV8BJJ",
        "colab": {}
      },
      "source": [
        "# install Kaggle API client\n",
        "!pip install -q kaggle"
      ],
      "execution_count": 0,
      "outputs": []
    },
    {
      "cell_type": "code",
      "metadata": {
        "colab_type": "code",
        "id": "DobW36ds8BJL",
        "colab": {}
      },
      "source": [
        "# move the API key to the expected directory; silence warnings\n",
        "!mkdir -p ~/.kaggle\n",
        "!cp kaggle.json ~/.kaggle/\n",
        "!chmod 600 ~/.kaggle/kaggle.json"
      ],
      "execution_count": 0,
      "outputs": []
    },
    {
      "cell_type": "code",
      "metadata": {
        "colab_type": "code",
        "outputId": "0da4b69f-9163-450b-831a-b43b09abf45d",
        "id": "--p5K2EE8BJO",
        "colab": {
          "base_uri": "https://localhost:8080/",
          "height": 419
        }
      },
      "source": [
        "# search for the Amazon Fine Food Reviews dataset\n",
        "!kaggle datasets list -s Amazon"
      ],
      "execution_count": 0,
      "outputs": [
        {
          "output_type": "stream",
          "text": [
            "Warning: Looks like you're using an outdated API Version, please consider updating (server 1.5.6 / client 1.5.4)\n",
            "ref                                                        title                                               size  lastUpdated          downloadCount  \n",
            "---------------------------------------------------------  -------------------------------------------------  -----  -------------------  -------------  \n",
            "snap/amazon-fine-food-reviews                              Amazon Fine Food Reviews                           242MB  2017-05-01 18:51:31          64081  \n",
            "sid321axn/amazon-alexa-reviews                             Amazon Alexa Reviews                               164KB  2018-07-31 17:45:14           7226  \n",
            "bittlingmayer/amazonreviews                                Amazon Reviews for Sentiment Analysis              493MB  2019-11-18 02:50:34          21561  \n",
            "grikomsn/amazon-cell-phones-reviews                        Amazon Cell Phones Reviews                           9MB  2019-12-26 22:21:16           5737  \n",
            "datafiniti/consumer-reviews-of-amazon-products             Consumer Reviews of Amazon Products                 16MB  2019-05-20 00:38:59          13474  \n",
            "PromptCloudHQ/amazon-reviews-unlocked-mobile-phones        Amazon Reviews: Unlocked Mobile Phones              33MB  2017-01-11 10:22:30           7099  \n",
            "atahmasb/amazon-job-skills                                 AMAZON Job Skills                                    2MB  2018-03-02 04:02:20           2627  \n",
            "PromptCloudHQ/toy-products-on-amazon                       Toy Products on Amazon                               8MB  2017-09-15 19:45:36           4769  \n",
            "bharadwaj6/kindle-reviews                                  Amazon reviews: Kindle Store Category              525MB  2018-05-22 04:50:16           3035  \n",
            "gustavomodelli/forest-fires-in-brazil                      Forest Fires in Brazil                              31KB  2019-08-24 16:09:16          20676  \n",
            "shitalkat/amazonearphonesreviews                           Amazon Earphones Reviews                           772KB  2019-07-19 04:53:11            458  \n",
            "skillsmuggler/amazon-ratings                               Amazon - Ratings (Beauty Products)                  29MB  2018-06-24 09:49:57           1288  \n",
            "residentmario/things-on-reddit                             Things on Reddit                                    16MB  2017-10-26 14:10:15           3466  \n",
            "ak47bluestack/amazonphonedataset                           Amazon-Phone-Dataset                                 4MB  2019-07-16 07:56:15            606  \n",
            "mpwolke/cusersmarildownloadstserofcsv                      Deforestation in Federal Conservation Units.         5KB  2019-08-09 20:54:55            156  \n",
            "mbogernetto/brazilian-amazon-rainforest-degradation        Brazilian Amazon Rainforest Degradation 1999-2019   46KB  2019-12-27 10:02:25            135  \n",
            "roopalik/amazon-baby-dataset                               Amazon baby dataset                                 18MB  2017-02-01 21:01:16            541  \n",
            "prasoonkottarathil/amazon-stocks-lifetime-dataset          amazon stocks life-time dataset                    106KB  2019-11-16 05:29:21             52  \n",
            "abdullahmu/big-five-stocks                                 Big Five Stocks                                    610KB  2019-08-25 15:51:36            449  \n",
            "ucffool/amazon-sales-rank-data-for-print-and-kindle-books  Amazon sales rank data for print and kindle books    2GB  2018-07-14 01:29:19           2808  \n"
          ],
          "name": "stdout"
        }
      ]
    },
    {
      "cell_type": "code",
      "metadata": {
        "colab_type": "code",
        "outputId": "b5e9d095-51e5-4b47-9c68-77fc50f01674",
        "id": "KRYWW0R88BJQ",
        "colab": {
          "base_uri": "https://localhost:8080/",
          "height": 69
        }
      },
      "source": [
        "# load our dataset from Kaggle; can use --force if necessary\n",
        "!kaggle datasets download -d snap/amazon-fine-food-reviews"
      ],
      "execution_count": 0,
      "outputs": [
        {
          "output_type": "stream",
          "text": [
            "Downloading amazon-fine-food-reviews.zip to /content\n",
            " 94% 227M/242M [00:01<00:00, 172MB/s]\n",
            "100% 242M/242M [00:01<00:00, 143MB/s]\n"
          ],
          "name": "stdout"
        }
      ]
    },
    {
      "cell_type": "code",
      "metadata": {
        "colab_type": "code",
        "outputId": "19b9966f-f1e0-4c0f-ffda-9e087236cc37",
        "id": "LlZAFDIX8BJS",
        "colab": {
          "base_uri": "https://localhost:8080/",
          "height": 34
        }
      },
      "source": [
        "# check to make sure our zip file downloaded successfully\n",
        "!ls"
      ],
      "execution_count": 0,
      "outputs": [
        {
          "output_type": "stream",
          "text": [
            "amazon-fine-food-reviews.zip  kaggle.json  sample_data\n"
          ],
          "name": "stdout"
        }
      ]
    },
    {
      "cell_type": "code",
      "metadata": {
        "colab_type": "code",
        "id": "XxpRqExv8BJU",
        "colab": {}
      },
      "source": [
        "import zipfile\n",
        "z = 'amazon-fine-food-reviews.zip'\n",
        "unzip = zipfile.ZipFile(z)\n",
        "unzip.extractall()"
      ],
      "execution_count": 0,
      "outputs": []
    },
    {
      "cell_type": "code",
      "metadata": {
        "colab_type": "code",
        "outputId": "6a32db8f-639b-40a2-ed9e-5701cfa8fee2",
        "id": "FvDLZIdp8BJW",
        "colab": {
          "base_uri": "https://localhost:8080/",
          "height": 52
        }
      },
      "source": [
        "# re-check current directory to see if we successfully unzipped \n",
        "!ls"
      ],
      "execution_count": 0,
      "outputs": [
        {
          "output_type": "stream",
          "text": [
            "amazon-fine-food-reviews.zip  hashes.txt   Reviews.csv\n",
            "database.sqlite\t\t      kaggle.json  sample_data\n"
          ],
          "name": "stdout"
        }
      ]
    },
    {
      "cell_type": "code",
      "metadata": {
        "colab_type": "code",
        "outputId": "006d83d6-848f-42d1-d979-e3e493f26d05",
        "id": "7FPxficA8BJY",
        "colab": {
          "base_uri": "https://localhost:8080/",
          "height": 197
        }
      },
      "source": [
        "# load our CSV to a dataframe and take a loot at the top 5 rows\n",
        "affr_df = pd.read_csv('Reviews.csv')\n",
        "affr_df.head()"
      ],
      "execution_count": 0,
      "outputs": [
        {
          "output_type": "execute_result",
          "data": {
            "text/html": [
              "<div>\n",
              "<style scoped>\n",
              "    .dataframe tbody tr th:only-of-type {\n",
              "        vertical-align: middle;\n",
              "    }\n",
              "\n",
              "    .dataframe tbody tr th {\n",
              "        vertical-align: top;\n",
              "    }\n",
              "\n",
              "    .dataframe thead th {\n",
              "        text-align: right;\n",
              "    }\n",
              "</style>\n",
              "<table border=\"1\" class=\"dataframe\">\n",
              "  <thead>\n",
              "    <tr style=\"text-align: right;\">\n",
              "      <th></th>\n",
              "      <th>Id</th>\n",
              "      <th>ProductId</th>\n",
              "      <th>UserId</th>\n",
              "      <th>ProfileName</th>\n",
              "      <th>HelpfulnessNumerator</th>\n",
              "      <th>HelpfulnessDenominator</th>\n",
              "      <th>Score</th>\n",
              "      <th>Time</th>\n",
              "      <th>Summary</th>\n",
              "      <th>Text</th>\n",
              "    </tr>\n",
              "  </thead>\n",
              "  <tbody>\n",
              "    <tr>\n",
              "      <th>0</th>\n",
              "      <td>1</td>\n",
              "      <td>B001E4KFG0</td>\n",
              "      <td>A3SGXH7AUHU8GW</td>\n",
              "      <td>delmartian</td>\n",
              "      <td>1</td>\n",
              "      <td>1</td>\n",
              "      <td>5</td>\n",
              "      <td>1303862400</td>\n",
              "      <td>Good Quality Dog Food</td>\n",
              "      <td>I have bought several of the Vitality canned d...</td>\n",
              "    </tr>\n",
              "    <tr>\n",
              "      <th>1</th>\n",
              "      <td>2</td>\n",
              "      <td>B00813GRG4</td>\n",
              "      <td>A1D87F6ZCVE5NK</td>\n",
              "      <td>dll pa</td>\n",
              "      <td>0</td>\n",
              "      <td>0</td>\n",
              "      <td>1</td>\n",
              "      <td>1346976000</td>\n",
              "      <td>Not as Advertised</td>\n",
              "      <td>Product arrived labeled as Jumbo Salted Peanut...</td>\n",
              "    </tr>\n",
              "    <tr>\n",
              "      <th>2</th>\n",
              "      <td>3</td>\n",
              "      <td>B000LQOCH0</td>\n",
              "      <td>ABXLMWJIXXAIN</td>\n",
              "      <td>Natalia Corres \"Natalia Corres\"</td>\n",
              "      <td>1</td>\n",
              "      <td>1</td>\n",
              "      <td>4</td>\n",
              "      <td>1219017600</td>\n",
              "      <td>\"Delight\" says it all</td>\n",
              "      <td>This is a confection that has been around a fe...</td>\n",
              "    </tr>\n",
              "    <tr>\n",
              "      <th>3</th>\n",
              "      <td>4</td>\n",
              "      <td>B000UA0QIQ</td>\n",
              "      <td>A395BORC6FGVXV</td>\n",
              "      <td>Karl</td>\n",
              "      <td>3</td>\n",
              "      <td>3</td>\n",
              "      <td>2</td>\n",
              "      <td>1307923200</td>\n",
              "      <td>Cough Medicine</td>\n",
              "      <td>If you are looking for the secret ingredient i...</td>\n",
              "    </tr>\n",
              "    <tr>\n",
              "      <th>4</th>\n",
              "      <td>5</td>\n",
              "      <td>B006K2ZZ7K</td>\n",
              "      <td>A1UQRSCLF8GW1T</td>\n",
              "      <td>Michael D. Bigham \"M. Wassir\"</td>\n",
              "      <td>0</td>\n",
              "      <td>0</td>\n",
              "      <td>5</td>\n",
              "      <td>1350777600</td>\n",
              "      <td>Great taffy</td>\n",
              "      <td>Great taffy at a great price.  There was a wid...</td>\n",
              "    </tr>\n",
              "  </tbody>\n",
              "</table>\n",
              "</div>"
            ],
            "text/plain": [
              "   Id  ...                                               Text\n",
              "0   1  ...  I have bought several of the Vitality canned d...\n",
              "1   2  ...  Product arrived labeled as Jumbo Salted Peanut...\n",
              "2   3  ...  This is a confection that has been around a fe...\n",
              "3   4  ...  If you are looking for the secret ingredient i...\n",
              "4   5  ...  Great taffy at a great price.  There was a wid...\n",
              "\n",
              "[5 rows x 10 columns]"
            ]
          },
          "metadata": {
            "tags": []
          },
          "execution_count": 14
        }
      ]
    },
    {
      "cell_type": "markdown",
      "metadata": {
        "colab_type": "text",
        "id": "ZT2YoiEfzU-1"
      },
      "source": [
        "# 2.) Exploratory Data Analysis: Let's look at the features available, do any processing/cleaning, and start exploring patterns in the data.  The dataset doesn't seem to have many immediately usable features, so we will extract features from review text."
      ]
    },
    {
      "cell_type": "markdown",
      "metadata": {
        "colab_type": "text",
        "id": "8rskgPCGz4Eo"
      },
      "source": [
        "Let's take a look at the columns, their data types, and whether there are any obvious nulls in the dataset."
      ]
    },
    {
      "cell_type": "code",
      "metadata": {
        "colab_type": "code",
        "id": "3rmWr7K9ztLL",
        "outputId": "88799976-a32b-4ba6-e96d-3f257d9a9ecf",
        "colab": {
          "base_uri": "https://localhost:8080/",
          "height": 279
        }
      },
      "source": [
        "affr_df.info()"
      ],
      "execution_count": 0,
      "outputs": [
        {
          "output_type": "stream",
          "text": [
            "<class 'pandas.core.frame.DataFrame'>\n",
            "RangeIndex: 568454 entries, 0 to 568453\n",
            "Data columns (total 10 columns):\n",
            "Id                        568454 non-null int64\n",
            "ProductId                 568454 non-null object\n",
            "UserId                    568454 non-null object\n",
            "ProfileName               568438 non-null object\n",
            "HelpfulnessNumerator      568454 non-null int64\n",
            "HelpfulnessDenominator    568454 non-null int64\n",
            "Score                     568454 non-null int64\n",
            "Time                      568454 non-null int64\n",
            "Summary                   568427 non-null object\n",
            "Text                      568454 non-null object\n",
            "dtypes: int64(5), object(5)\n",
            "memory usage: 43.4+ MB\n"
          ],
          "name": "stdout"
        }
      ]
    },
    {
      "cell_type": "code",
      "metadata": {
        "colab_type": "code",
        "id": "1dmnC1_w9K79",
        "outputId": "efb33e58-fe35-47cf-f0d1-19be4e57ff00",
        "colab": {
          "base_uri": "https://localhost:8080/",
          "height": 69
        }
      },
      "source": [
        "null_count = affr_df.isnull().sum()\n",
        "null_count[null_count>0]"
      ],
      "execution_count": 0,
      "outputs": [
        {
          "output_type": "execute_result",
          "data": {
            "text/plain": [
              "ProfileName    16\n",
              "Summary        27\n",
              "dtype: int64"
            ]
          },
          "metadata": {
            "tags": []
          },
          "execution_count": 12
        }
      ]
    },
    {
      "cell_type": "markdown",
      "metadata": {
        "colab_type": "text",
        "id": "zCQelpxa0G-J"
      },
      "source": [
        "It looks like we have several object/text columns, as well as some int columns.  It seems that the only columns with nulls are two of the text columns, 'ProfileName' and 'Summary'. The rest are numerical/int columns."
      ]
    },
    {
      "cell_type": "markdown",
      "metadata": {
        "colab_type": "text",
        "id": "EsuwIe9G0uP_"
      },
      "source": [
        "The first few columns, Id, ProductId, UserId, and ProfileName are unlikely to be useful as features.  We can drop them moving forward.\n",
        "\n",
        "The column 'Time', needs to be converted to DateTime to be helpful.  If we were interested in looking at multiple reviews for a product across time, or more global reviewing patterns across time, this would be useful.  Since that's out of scope for this project, we'll also drop this column.\n",
        "\n",
        "The Summary and Text columns seem to be the most relevant for our planned NLP analysis.  Looking at the null counts, it seems there are a few nulls in 'Summary', which will be our primary feature column, we'll just drop any rows where summary is null.  Losing 27 among the 568454 responses should have little effect on our model. "
      ]
    },
    {
      "cell_type": "code",
      "metadata": {
        "colab_type": "code",
        "id": "RywGCPsw0AyR",
        "outputId": "a7d5ba3d-f841-466e-9107-e1aeab950743",
        "colab": {
          "base_uri": "https://localhost:8080/",
          "height": 197
        }
      },
      "source": [
        "# Drop NA rows \n",
        "affr_df = affr_df.dropna(axis = 0, how ='any')\n",
        "\n",
        "# Drop non-feature columns\n",
        "affr_df.drop(['Id', 'ProductId', 'UserId', 'ProfileName'], axis=1, inplace=True)\n",
        "affr_df.head()"
      ],
      "execution_count": 0,
      "outputs": [
        {
          "output_type": "execute_result",
          "data": {
            "text/html": [
              "<div>\n",
              "<style scoped>\n",
              "    .dataframe tbody tr th:only-of-type {\n",
              "        vertical-align: middle;\n",
              "    }\n",
              "\n",
              "    .dataframe tbody tr th {\n",
              "        vertical-align: top;\n",
              "    }\n",
              "\n",
              "    .dataframe thead th {\n",
              "        text-align: right;\n",
              "    }\n",
              "</style>\n",
              "<table border=\"1\" class=\"dataframe\">\n",
              "  <thead>\n",
              "    <tr style=\"text-align: right;\">\n",
              "      <th></th>\n",
              "      <th>HelpfulnessNumerator</th>\n",
              "      <th>HelpfulnessDenominator</th>\n",
              "      <th>Score</th>\n",
              "      <th>Time</th>\n",
              "      <th>Summary</th>\n",
              "      <th>Text</th>\n",
              "    </tr>\n",
              "  </thead>\n",
              "  <tbody>\n",
              "    <tr>\n",
              "      <th>0</th>\n",
              "      <td>1</td>\n",
              "      <td>1</td>\n",
              "      <td>5</td>\n",
              "      <td>1303862400</td>\n",
              "      <td>Good Quality Dog Food</td>\n",
              "      <td>I have bought several of the Vitality canned d...</td>\n",
              "    </tr>\n",
              "    <tr>\n",
              "      <th>1</th>\n",
              "      <td>0</td>\n",
              "      <td>0</td>\n",
              "      <td>1</td>\n",
              "      <td>1346976000</td>\n",
              "      <td>Not as Advertised</td>\n",
              "      <td>Product arrived labeled as Jumbo Salted Peanut...</td>\n",
              "    </tr>\n",
              "    <tr>\n",
              "      <th>2</th>\n",
              "      <td>1</td>\n",
              "      <td>1</td>\n",
              "      <td>4</td>\n",
              "      <td>1219017600</td>\n",
              "      <td>\"Delight\" says it all</td>\n",
              "      <td>This is a confection that has been around a fe...</td>\n",
              "    </tr>\n",
              "    <tr>\n",
              "      <th>3</th>\n",
              "      <td>3</td>\n",
              "      <td>3</td>\n",
              "      <td>2</td>\n",
              "      <td>1307923200</td>\n",
              "      <td>Cough Medicine</td>\n",
              "      <td>If you are looking for the secret ingredient i...</td>\n",
              "    </tr>\n",
              "    <tr>\n",
              "      <th>4</th>\n",
              "      <td>0</td>\n",
              "      <td>0</td>\n",
              "      <td>5</td>\n",
              "      <td>1350777600</td>\n",
              "      <td>Great taffy</td>\n",
              "      <td>Great taffy at a great price.  There was a wid...</td>\n",
              "    </tr>\n",
              "  </tbody>\n",
              "</table>\n",
              "</div>"
            ],
            "text/plain": [
              "   HelpfulnessNumerator  ...                                               Text\n",
              "0                     1  ...  I have bought several of the Vitality canned d...\n",
              "1                     0  ...  Product arrived labeled as Jumbo Salted Peanut...\n",
              "2                     1  ...  This is a confection that has been around a fe...\n",
              "3                     3  ...  If you are looking for the secret ingredient i...\n",
              "4                     0  ...  Great taffy at a great price.  There was a wid...\n",
              "\n",
              "[5 rows x 6 columns]"
            ]
          },
          "metadata": {
            "tags": []
          },
          "execution_count": 13
        }
      ]
    },
    {
      "cell_type": "code",
      "metadata": {
        "colab_type": "code",
        "id": "Bnx3Qxfa2INa",
        "outputId": "5177f21c-e09d-46ed-80a8-b81460e411e3",
        "colab": {
          "base_uri": "https://localhost:8080/",
          "height": 295
        }
      },
      "source": [
        "affr_df.Score.hist()\n",
        "plt.title('Frequency Histogram of Score')\n",
        "plt.xlabel('Reviewer Score')\n",
        "plt.ylabel('Frequency')\n",
        "plt.show()"
      ],
      "execution_count": 0,
      "outputs": [
        {
          "output_type": "display_data",
          "data": {
            "image/png": "[encoded data removed]",
            "text/plain": [
              "<Figure size 432x288 with 1 Axes>"
            ]
          },
          "metadata": {
            "tags": []
          }
        }
      ]
    },
    {
      "cell_type": "code",
      "metadata": {
        "colab_type": "code",
        "id": "rYgSMQax7T7A",
        "outputId": "dfb849c6-58a7-4fc0-b00c-4f7bfa1c5c47",
        "colab": {
          "base_uri": "https://localhost:8080/",
          "height": 174
        }
      },
      "source": [
        "affr_df.Score.describe()"
      ],
      "execution_count": 0,
      "outputs": [
        {
          "output_type": "execute_result",
          "data": {
            "text/plain": [
              "count    568411.000000\n",
              "mean          4.183309\n",
              "std           1.310368\n",
              "min           1.000000\n",
              "25%           4.000000\n",
              "50%           5.000000\n",
              "75%           5.000000\n",
              "max           5.000000\n",
              "Name: Score, dtype: float64"
            ]
          },
          "metadata": {
            "tags": []
          },
          "execution_count": 15
        }
      ]
    },
    {
      "cell_type": "code",
      "metadata": {
        "colab_type": "code",
        "id": "H2L7FeUGTlZR",
        "outputId": "a5a30e00-06ad-4f93-d473-322138ed80c4",
        "colab": {
          "base_uri": "https://localhost:8080/",
          "height": 122
        }
      },
      "source": [
        "affr_df.Score.value_counts(normalize=True)"
      ],
      "execution_count": 0,
      "outputs": [
        {
          "output_type": "execute_result",
          "data": {
            "text/plain": [
              "5    0.638818\n",
              "4    0.141896\n",
              "1    0.091948\n",
              "3    0.075013\n",
              "2    0.052327\n",
              "Name: Score, dtype: float64"
            ]
          },
          "metadata": {
            "tags": []
          },
          "execution_count": 16
        }
      ]
    },
    {
      "cell_type": "markdown",
      "metadata": {
        "colab_type": "text",
        "id": "pUkmv2rRTU11"
      },
      "source": [
        "So our target variable, 'Score', contains interval data and ranges from 1 to 5 in whole number increments.\n",
        "\n",
        "Clearly there is an upward skew to this, with ~64% of responses indicating a 5 star rating.  "
      ]
    },
    {
      "cell_type": "markdown",
      "metadata": {
        "colab_type": "text",
        "id": "QScDboRJW0FY"
      },
      "source": [
        "Now, let's look at the 'Helpfulness' columns.  "
      ]
    },
    {
      "cell_type": "code",
      "metadata": {
        "colab_type": "code",
        "id": "4nGH67QvWldK",
        "outputId": "94722d8a-7f21-4ef4-9f8a-789561ed19a3",
        "colab": {
          "base_uri": "https://localhost:8080/",
          "height": 174
        }
      },
      "source": [
        "affr_df.HelpfulnessNumerator.describe()"
      ],
      "execution_count": 0,
      "outputs": [
        {
          "output_type": "execute_result",
          "data": {
            "text/plain": [
              "count    568411.000000\n",
              "mean          1.743874\n",
              "std           7.636781\n",
              "min           0.000000\n",
              "25%           0.000000\n",
              "50%           0.000000\n",
              "75%           2.000000\n",
              "max         866.000000\n",
              "Name: HelpfulnessNumerator, dtype: float64"
            ]
          },
          "metadata": {
            "tags": []
          },
          "execution_count": 17
        }
      ]
    },
    {
      "cell_type": "code",
      "metadata": {
        "colab_type": "code",
        "id": "dPtdCw_YiT7I",
        "outputId": "3dd40ec8-48af-4651-b617-2912c70a8a0f",
        "colab": {
          "base_uri": "https://localhost:8080/",
          "height": 227
        }
      },
      "source": [
        "affr_df.HelpfulnessNumerator.value_counts(normalize=True)"
      ],
      "execution_count": 0,
      "outputs": [
        {
          "output_type": "execute_result",
          "data": {
            "text/plain": [
              "0      0.534495\n",
              "1      0.204850\n",
              "2      0.094520\n",
              "3      0.051032\n",
              "4      0.029843\n",
              "         ...   \n",
              "126    0.000002\n",
              "231    0.000002\n",
              "233    0.000002\n",
              "153    0.000002\n",
              "491    0.000002\n",
              "Name: HelpfulnessNumerator, Length: 231, dtype: float64"
            ]
          },
          "metadata": {
            "tags": []
          },
          "execution_count": 18
        }
      ]
    },
    {
      "cell_type": "code",
      "metadata": {
        "colab_type": "code",
        "id": "e1SC5krtW78J",
        "outputId": "74715e80-b2c9-4b0d-b82d-6a00fd13475c",
        "colab": {
          "base_uri": "https://localhost:8080/",
          "height": 174
        }
      },
      "source": [
        "affr_df.HelpfulnessDenominator.describe()"
      ],
      "execution_count": 0,
      "outputs": [
        {
          "output_type": "execute_result",
          "data": {
            "text/plain": [
              "count    568411.000000\n",
              "mean          2.227876\n",
              "std           8.288752\n",
              "min           0.000000\n",
              "25%           0.000000\n",
              "50%           1.000000\n",
              "75%           2.000000\n",
              "max         923.000000\n",
              "Name: HelpfulnessDenominator, dtype: float64"
            ]
          },
          "metadata": {
            "tags": []
          },
          "execution_count": 19
        }
      ]
    },
    {
      "cell_type": "code",
      "metadata": {
        "colab_type": "code",
        "id": "B21AUZPNiYsc",
        "outputId": "1593ae10-8dc1-4912-bcd7-00307dd0a87d",
        "colab": {
          "base_uri": "https://localhost:8080/",
          "height": 227
        }
      },
      "source": [
        "affr_df.HelpfulnessNumerator.value_counts(normalize=True)"
      ],
      "execution_count": 0,
      "outputs": [
        {
          "output_type": "execute_result",
          "data": {
            "text/plain": [
              "0      0.534495\n",
              "1      0.204850\n",
              "2      0.094520\n",
              "3      0.051032\n",
              "4      0.029843\n",
              "         ...   \n",
              "126    0.000002\n",
              "231    0.000002\n",
              "233    0.000002\n",
              "153    0.000002\n",
              "491    0.000002\n",
              "Name: HelpfulnessNumerator, Length: 231, dtype: float64"
            ]
          },
          "metadata": {
            "tags": []
          },
          "execution_count": 20
        }
      ]
    },
    {
      "cell_type": "code",
      "metadata": {
        "colab_type": "code",
        "id": "-hlIDxVd7wnL",
        "outputId": "7d492ed9-70b9-4e32-c5d7-5a2d24978223",
        "colab": {
          "base_uri": "https://localhost:8080/",
          "height": 312
        }
      },
      "source": [
        "# Plot frequency histograms for our two 'Helpfulness' columns\n",
        "fig, (ax1, ax2) = plt.subplots(1, 2) \n",
        "\n",
        "ax1.hist(affr_df['HelpfulnessNumerator'], bins=5)\n",
        "ax1.set_title('Frequency Histogram of HelpfulnessNumerator')\n",
        "ax1.set_xlabel('Numerator')\n",
        "ax2.hist(affr_df['HelpfulnessDenominator'], bins=5)\n",
        "ax2.set_title('Frequency Histogram of HelpfulnessDenominator')\n",
        "ax2.set_xlabel('Helpfulness Denominator')"
      ],
      "execution_count": 0,
      "outputs": [
        {
          "output_type": "execute_result",
          "data": {
            "text/plain": [
              "Text(0.5, 0, 'Helpfulness Denominator')"
            ]
          },
          "metadata": {
            "tags": []
          },
          "execution_count": 21
        },
        {
          "output_type": "display_data",
          "data": {
            "image/png": "[encoded data removed]",
            "text/plain": [
              "<Figure size 432x288 with 2 Axes>"
            ]
          },
          "metadata": {
            "tags": []
          }
        }
      ]
    },
    {
      "cell_type": "markdown",
      "metadata": {
        "colab_type": "text",
        "id": "ujKJ2QTJ5RUG"
      },
      "source": [
        "Well, those histograms are not very 'helpful' in visualizing these features.  The only thing we can visualize is that the vast majority of responses have very few scores for Helpfulness. Looking at the summary statistics and value counts on each column, we see that there is a huge range between min and max for both the numerator and denominator, and with more than half of the reviews recieving no responses for 'helpfulness' at all.  \n",
        "\n",
        "Let's engineer a feature, called 'HelpfulnessRatio', as the ratio (numerator over denominator) of Helpful to Not Helpful responses.  We can use this to filter our dataset during modeling, to see if our model is better at predicting 'Score' for only putatively helpful reviews versus all reviews, helpful or not, in aggregate.  Since reviews with zero in both numerator and denominator will be undefined, we'll fill the zeros with 1 to avoid losing more than half of our data."
      ]
    },
    {
      "cell_type": "code",
      "metadata": {
        "colab_type": "code",
        "id": "Q9mcn5R25WQl",
        "outputId": "5bc51754-3013-4ea6-db31-ec06b37a58f3",
        "colab": {
          "base_uri": "https://localhost:8080/",
          "height": 197
        }
      },
      "source": [
        "affr_df.loc[(affr_df.HelpfulnessNumerator == 0), 'HelpfulnessNumerator'] = 1\n",
        "affr_df.loc[(affr_df.HelpfulnessDenominator == 0), 'HelpfulnessDenominator'] = 1\n",
        "affr_df['HelpfulnessRatio'] = affr_df['HelpfulnessNumerator'] / affr_df['HelpfulnessDenominator']\n",
        "affr_df.head()"
      ],
      "execution_count": 0,
      "outputs": [
        {
          "output_type": "execute_result",
          "data": {
            "text/html": [
              "<div>\n",
              "<style scoped>\n",
              "    .dataframe tbody tr th:only-of-type {\n",
              "        vertical-align: middle;\n",
              "    }\n",
              "\n",
              "    .dataframe tbody tr th {\n",
              "        vertical-align: top;\n",
              "    }\n",
              "\n",
              "    .dataframe thead th {\n",
              "        text-align: right;\n",
              "    }\n",
              "</style>\n",
              "<table border=\"1\" class=\"dataframe\">\n",
              "  <thead>\n",
              "    <tr style=\"text-align: right;\">\n",
              "      <th></th>\n",
              "      <th>HelpfulnessNumerator</th>\n",
              "      <th>HelpfulnessDenominator</th>\n",
              "      <th>Score</th>\n",
              "      <th>Time</th>\n",
              "      <th>Summary</th>\n",
              "      <th>Text</th>\n",
              "      <th>HelpfulnessRatio</th>\n",
              "    </tr>\n",
              "  </thead>\n",
              "  <tbody>\n",
              "    <tr>\n",
              "      <th>0</th>\n",
              "      <td>1</td>\n",
              "      <td>1</td>\n",
              "      <td>5</td>\n",
              "      <td>1303862400</td>\n",
              "      <td>Good Quality Dog Food</td>\n",
              "      <td>I have bought several of the Vitality canned d...</td>\n",
              "      <td>1.0</td>\n",
              "    </tr>\n",
              "    <tr>\n",
              "      <th>1</th>\n",
              "      <td>1</td>\n",
              "      <td>1</td>\n",
              "      <td>1</td>\n",
              "      <td>1346976000</td>\n",
              "      <td>Not as Advertised</td>\n",
              "      <td>Product arrived labeled as Jumbo Salted Peanut...</td>\n",
              "      <td>1.0</td>\n",
              "    </tr>\n",
              "    <tr>\n",
              "      <th>2</th>\n",
              "      <td>1</td>\n",
              "      <td>1</td>\n",
              "      <td>4</td>\n",
              "      <td>1219017600</td>\n",
              "      <td>\"Delight\" says it all</td>\n",
              "      <td>This is a confection that has been around a fe...</td>\n",
              "      <td>1.0</td>\n",
              "    </tr>\n",
              "    <tr>\n",
              "      <th>3</th>\n",
              "      <td>3</td>\n",
              "      <td>3</td>\n",
              "      <td>2</td>\n",
              "      <td>1307923200</td>\n",
              "      <td>Cough Medicine</td>\n",
              "      <td>If you are looking for the secret ingredient i...</td>\n",
              "      <td>1.0</td>\n",
              "    </tr>\n",
              "    <tr>\n",
              "      <th>4</th>\n",
              "      <td>1</td>\n",
              "      <td>1</td>\n",
              "      <td>5</td>\n",
              "      <td>1350777600</td>\n",
              "      <td>Great taffy</td>\n",
              "      <td>Great taffy at a great price.  There was a wid...</td>\n",
              "      <td>1.0</td>\n",
              "    </tr>\n",
              "  </tbody>\n",
              "</table>\n",
              "</div>"
            ],
            "text/plain": [
              "   HelpfulnessNumerator  ...  HelpfulnessRatio\n",
              "0                     1  ...               1.0\n",
              "1                     1  ...               1.0\n",
              "2                     1  ...               1.0\n",
              "3                     3  ...               1.0\n",
              "4                     1  ...               1.0\n",
              "\n",
              "[5 rows x 7 columns]"
            ]
          },
          "metadata": {
            "tags": []
          },
          "execution_count": 22
        }
      ]
    },
    {
      "cell_type": "code",
      "metadata": {
        "colab_type": "code",
        "id": "0zb2a9rLaMLz",
        "outputId": "1ceb189d-9449-4944-ec5d-a567d452bf52",
        "colab": {
          "base_uri": "https://localhost:8080/",
          "height": 227
        }
      },
      "source": [
        "affr_df.HelpfulnessRatio.value_counts(normalize=True)"
      ],
      "execution_count": 0,
      "outputs": [
        {
          "output_type": "execute_result",
          "data": {
            "text/plain": [
              "1.000000    0.837257\n",
              "0.500000    0.048301\n",
              "0.666667    0.018495\n",
              "0.333333    0.013101\n",
              "0.750000    0.011196\n",
              "              ...   \n",
              "0.962791    0.000002\n",
              "0.918367    0.000002\n",
              "0.953271    0.000002\n",
              "0.341463    0.000002\n",
              "0.759494    0.000002\n",
              "Name: HelpfulnessRatio, Length: 958, dtype: float64"
            ]
          },
          "metadata": {
            "tags": []
          },
          "execution_count": 23
        }
      ]
    },
    {
      "cell_type": "code",
      "metadata": {
        "colab_type": "code",
        "id": "diAvlel-qSyu",
        "outputId": "c9ade5b4-69bc-4a87-ea6f-f1138dc63a1a",
        "colab": {
          "base_uri": "https://localhost:8080/",
          "height": 295
        }
      },
      "source": [
        "affr_df.HelpfulnessRatio.hist(bins=5)\n",
        "plt.title('Frequency Histogram of Score')\n",
        "plt.xlabel('Reviewer Score')\n",
        "plt.ylabel('Frequency')\n",
        "plt.show()"
      ],
      "execution_count": 0,
      "outputs": [
        {
          "output_type": "display_data",
          "data": {
            "image/png": "[encoded data removed]",
            "text/plain": [
              "<Figure size 432x288 with 1 Axes>"
            ]
          },
          "metadata": {
            "tags": []
          }
        }
      ]
    },
    {
      "cell_type": "markdown",
      "metadata": {
        "colab_type": "text",
        "id": "YI0kvv_WbILS"
      },
      "source": [
        "We retained all of our data by imputing 1 for 0, but now we definitely have an over-representation of '1's in our dataset.  We'll use the full data for this project, but a follow-up study could consider filtering for HelpfulnessRatio >1 for comparison."
      ]
    },
    {
      "cell_type": "markdown",
      "metadata": {
        "colab_type": "text",
        "id": "HsgkFRPjbhKi"
      },
      "source": [
        "The Features df now just contains the columns intended for use ('Summary', 'Text', 'ScorePolarity', and 'HelpfulnessRatio').  Now,  we need to process the 'Text' and 'Summary' columns with some NLP processing to generate useful features from the bodies of text."
      ]
    },
    {
      "cell_type": "markdown",
      "metadata": {
        "id": "vrngWEMNzxUv",
        "colab_type": "text"
      },
      "source": [
        "Because of the number of reviews and features, we wind up hiting memory limitations down the road unless we take a subset of the data.  Let's use a subset of 100k entries to train our models.  A follow-up project with more computational resources could compare performance with the full dataset, since a broader sampling of entries would provide a lot more data and potentially improve performance (e.g. more features extracted from TFIDF)."
      ]
    },
    {
      "cell_type": "code",
      "metadata": {
        "id": "C_5zGW90zxUw",
        "colab_type": "code",
        "outputId": "69015fbf-c94a-494a-d890-e19ab7077ad0",
        "colab": {
          "base_uri": "https://localhost:8080/",
          "height": 197
        }
      },
      "source": [
        "affr_df_sample = affr_df.sample(n = 100000, random_state=42) # subsample 100k reviews; use these to train models\n",
        "affr_df_sample.head()"
      ],
      "execution_count": 0,
      "outputs": [
        {
          "output_type": "execute_result",
          "data": {
            "text/html": [
              "<div>\n",
              "<style scoped>\n",
              "    .dataframe tbody tr th:only-of-type {\n",
              "        vertical-align: middle;\n",
              "    }\n",
              "\n",
              "    .dataframe tbody tr th {\n",
              "        vertical-align: top;\n",
              "    }\n",
              "\n",
              "    .dataframe thead th {\n",
              "        text-align: right;\n",
              "    }\n",
              "</style>\n",
              "<table border=\"1\" class=\"dataframe\">\n",
              "  <thead>\n",
              "    <tr style=\"text-align: right;\">\n",
              "      <th></th>\n",
              "      <th>HelpfulnessNumerator</th>\n",
              "      <th>HelpfulnessDenominator</th>\n",
              "      <th>Score</th>\n",
              "      <th>Time</th>\n",
              "      <th>Summary</th>\n",
              "      <th>Text</th>\n",
              "      <th>HelpfulnessRatio</th>\n",
              "    </tr>\n",
              "  </thead>\n",
              "  <tbody>\n",
              "    <tr>\n",
              "      <th>410090</th>\n",
              "      <td>1</td>\n",
              "      <td>2</td>\n",
              "      <td>4</td>\n",
              "      <td>1208822400</td>\n",
              "      <td>The good and the Bad</td>\n",
              "      <td>First the good.&lt;br /&gt;If you like Starbucks cof...</td>\n",
              "      <td>0.500000</td>\n",
              "    </tr>\n",
              "    <tr>\n",
              "      <th>12044</th>\n",
              "      <td>12</td>\n",
              "      <td>14</td>\n",
              "      <td>5</td>\n",
              "      <td>1283299200</td>\n",
              "      <td>Best tasting sardines</td>\n",
              "      <td>Sustainably caught off the California Coast, p...</td>\n",
              "      <td>0.857143</td>\n",
              "    </tr>\n",
              "    <tr>\n",
              "      <th>96685</th>\n",
              "      <td>1</td>\n",
              "      <td>1</td>\n",
              "      <td>5</td>\n",
              "      <td>1328486400</td>\n",
              "      <td>Cody B.</td>\n",
              "      <td>I loved the chips they were AWESOME!!! but tha...</td>\n",
              "      <td>1.000000</td>\n",
              "    </tr>\n",
              "    <tr>\n",
              "      <th>66514</th>\n",
              "      <td>4</td>\n",
              "      <td>4</td>\n",
              "      <td>5</td>\n",
              "      <td>1208563200</td>\n",
              "      <td>My little old man LOVES this food</td>\n",
              "      <td>My little 15 yo Siamese has one very small kid...</td>\n",
              "      <td>1.000000</td>\n",
              "    </tr>\n",
              "    <tr>\n",
              "      <th>50074</th>\n",
              "      <td>1</td>\n",
              "      <td>1</td>\n",
              "      <td>5</td>\n",
              "      <td>1327622400</td>\n",
              "      <td>GREAT...gluten free...</td>\n",
              "      <td>GREAT...gluten free...Edward &amp; Sons Not-Beef B...</td>\n",
              "      <td>1.000000</td>\n",
              "    </tr>\n",
              "  </tbody>\n",
              "</table>\n",
              "</div>"
            ],
            "text/plain": [
              "        HelpfulnessNumerator  ...  HelpfulnessRatio\n",
              "410090                     1  ...          0.500000\n",
              "12044                     12  ...          0.857143\n",
              "96685                      1  ...          1.000000\n",
              "66514                      4  ...          1.000000\n",
              "50074                      1  ...          1.000000\n",
              "\n",
              "[5 rows x 7 columns]"
            ]
          },
          "metadata": {
            "tags": []
          },
          "execution_count": 25
        }
      ]
    },
    {
      "cell_type": "markdown",
      "metadata": {
        "colab_type": "text",
        "id": "ZlqiiOY6QYp8"
      },
      "source": [
        "The 100k subsample looks great.  We can also see that the index was retained, so we can see that these are unique responses and can be traced back to their position in the original dataset should we need to look back.\n",
        "\n",
        "The remaining three columns look to be a bit more interesting.  The columns 'HelpfulnessNumerator' and 'HelpfulnessDenominator' indicate the number / proportion of other users who found the initial reviewer's feedback to be helpful.  The 'Score' column looks to be our target variable, indicating the subjective score that the reviewer gave for this product.  \n",
        "\n",
        "\n",
        "I've decided to focus on predicting 'Score' using an NLP digestion of the 'Text' and/or 'Summary' initially, but the 'Helpfulness' columns could still be interesting/useful later.  Let's look at it a bit deeper at Score and Helpfulness, and once we've found what we want, we can copy to our features dataframe."
      ]
    },
    {
      "cell_type": "markdown",
      "metadata": {
        "id": "RAi_1XOo1yMC",
        "colab_type": "text"
      },
      "source": [
        "# 3.) Feature Engineering: now that we've looked at our dataset, we need to generate some useful features from the columns present."
      ]
    },
    {
      "cell_type": "code",
      "metadata": {
        "colab_type": "code",
        "id": "U9fO6i7HxPV6",
        "colab": {}
      },
      "source": [
        "from sklearn.feature_extraction.text import TfidfVectorizer\n",
        "\n",
        "X_text = affr_df_sample['Text'].values # using .values instead of to_numpy because my pandas version won't update\n",
        "vectorizer = TfidfVectorizer()\n",
        "X_text_processed = vectorizer.fit_transform(X_text)"
      ],
      "execution_count": 0,
      "outputs": []
    },
    {
      "cell_type": "code",
      "metadata": {
        "colab_type": "code",
        "id": "d2TFpPjGyib9",
        "outputId": "9dea98f9-bd21-49f5-ea51-5092326e383a",
        "colab": {
          "base_uri": "https://localhost:8080/",
          "height": 34
        }
      },
      "source": [
        "X_text_processed.shape"
      ],
      "execution_count": 0,
      "outputs": [
        {
          "output_type": "execute_result",
          "data": {
            "text/plain": [
              "(100000, 57163)"
            ]
          },
          "metadata": {
            "tags": []
          },
          "execution_count": 27
        }
      ]
    },
    {
      "cell_type": "markdown",
      "metadata": {
        "colab_type": "text",
        "id": "RQ7WvkfOyvZy"
      },
      "source": [
        "We now have >50k features for 100k samples to train our models.  For reference, if we run TFIDF on the full datset, we get >120k features for >550k samples; the ratio of features to samples may be a better in the full dataset.  \n",
        "\n",
        "Let's start training our models.  Let's set our target variable 'Score', run train-test-split on our data subsample, and compare performance across non-optimized models using the Confusion Matrix and their overall Accuracy."
      ]
    },
    {
      "cell_type": "code",
      "metadata": {
        "colab_type": "code",
        "id": "hhLdxZPmzbnM",
        "colab": {}
      },
      "source": [
        "# set 'Score' as our target variable\n",
        "y = affr_df_sample['Score'].values # can use .to_numpy but using .values instead"
      ],
      "execution_count": 0,
      "outputs": []
    },
    {
      "cell_type": "code",
      "metadata": {
        "id": "2LH4vTlHzxVA",
        "colab_type": "code",
        "colab": {}
      },
      "source": [
        "# split data into training and testing sets\n",
        "from sklearn.model_selection import train_test_split\n",
        "X_train, X_test, y_train, y_test = train_test_split(X_text_processed, y, test_size=0.2, random_state=42)"
      ],
      "execution_count": 0,
      "outputs": []
    },
    {
      "cell_type": "markdown",
      "metadata": {
        "id": "LjO-ZkqUzxVE",
        "colab_type": "text"
      },
      "source": [
        "Now that we have our training and test splits, we can start comparing our models.  We'll start with simpler models like logistic regression and Decision Trees, then move into more intensive models like RandomForest, KNN-C, and more. "
      ]
    },
    {
      "cell_type": "markdown",
      "metadata": {
        "id": "CrA99FftnYDl",
        "colab_type": "text"
      },
      "source": [
        "# 4.) Classifier Model Training and Testing"
      ]
    },
    {
      "cell_type": "markdown",
      "metadata": {
        "id": "Mb17uA3u_Eqp",
        "colab_type": "text"
      },
      "source": [
        "## Logistic Regression Classifier"
      ]
    },
    {
      "cell_type": "code",
      "metadata": {
        "id": "pzQ_nKj5_G13",
        "colab_type": "code",
        "outputId": "e3108263-5025-4a5f-e402-60eba558cee8",
        "colab": {
          "base_uri": "https://localhost:8080/",
          "height": 106
        }
      },
      "source": [
        "from sklearn.linear_model import LogisticRegression\n",
        "clf_lr = LogisticRegression(solver = 'lbfgs', max_iter= 5000)\n",
        "clf_lr.fit(X_train, y_train)"
      ],
      "execution_count": 0,
      "outputs": [
        {
          "output_type": "execute_result",
          "data": {
            "text/plain": [
              "LogisticRegression(C=1.0, class_weight=None, dual=False, fit_intercept=True,\n",
              "                   intercept_scaling=1, l1_ratio=None, max_iter=5000,\n",
              "                   multi_class='auto', n_jobs=None, penalty='l2',\n",
              "                   random_state=None, solver='lbfgs', tol=0.0001, verbose=0,\n",
              "                   warm_start=False)"
            ]
          },
          "metadata": {
            "tags": []
          },
          "execution_count": 34
        }
      ]
    },
    {
      "cell_type": "code",
      "metadata": {
        "colab_type": "code",
        "id": "EzmA8hAJB4f8",
        "outputId": "7d25d19b-2474-42c4-e841-2439427925cb",
        "colab": {
          "base_uri": "https://localhost:8080/",
          "height": 35
        }
      },
      "source": [
        "# Check overall model 'accuracy'\n",
        "print(\"Accuracy for Logistic Regression Classifier: {}\".format(clf_lr.score(X_test, y_test)))"
      ],
      "execution_count": 0,
      "outputs": [
        {
          "output_type": "stream",
          "text": [
            "Accuracy for Logistic Regression Classifier: 0.73255\n"
          ],
          "name": "stdout"
        }
      ]
    },
    {
      "cell_type": "code",
      "metadata": {
        "colab_type": "code",
        "outputId": "c141c723-a65a-4ba4-c8a8-2c0e768cee64",
        "id": "aEEWh4jMCCbz",
        "colab": {
          "base_uri": "https://localhost:8080/",
          "height": 230
        }
      },
      "source": [
        "from sklearn import metrics\n",
        "clf_lr_pred = clf_lr.predict(X_test)\n",
        "print(metrics.classification_report(y_test, clf_lr_pred, target_names = ['1', '2', '3', '4', '5']))"
      ],
      "execution_count": 0,
      "outputs": [
        {
          "output_type": "stream",
          "text": [
            "              precision    recall  f1-score   support\n",
            "\n",
            "           1       0.66      0.63      0.65      1824\n",
            "           2       0.39      0.13      0.20      1048\n",
            "           3       0.47      0.28      0.35      1422\n",
            "           4       0.50      0.24      0.32      2919\n",
            "           5       0.78      0.96      0.86     12787\n",
            "\n",
            "    accuracy                           0.73     20000\n",
            "   macro avg       0.56      0.45      0.48     20000\n",
            "weighted avg       0.69      0.73      0.69     20000\n",
            "\n"
          ],
          "name": "stdout"
        }
      ]
    },
    {
      "cell_type": "code",
      "metadata": {
        "colab_type": "code",
        "id": "DX-4i8CgCEvc",
        "colab": {}
      },
      "source": [
        "# Set up multiclass confusion matrix\n",
        "from sklearn.metrics import confusion_matrix\n",
        "clf_lr_cnf = confusion_matrix(y_test, clf_lr_pred)"
      ],
      "execution_count": 0,
      "outputs": []
    },
    {
      "cell_type": "code",
      "metadata": {
        "scrolled": false,
        "colab_type": "code",
        "outputId": "3280b8d8-5e7c-4f44-80b3-c7ca33a2918d",
        "id": "bRAmv5ZPCG6h",
        "colab": {
          "base_uri": "https://localhost:8080/",
          "height": 279
        }
      },
      "source": [
        "# visualize confusion matrix using mlxtend \n",
        "from mlxtend.evaluate import confusion_matrix\n",
        "from mlxtend.plotting import plot_confusion_matrix\n",
        "\n",
        "fig, ax = plot_confusion_matrix(conf_mat=clf_lr_cnf)"
      ],
      "execution_count": 0,
      "outputs": [
        {
          "output_type": "display_data",
          "data": {
            "image/png": "[encoded data removed]",
            "text/plain": [
              "<Figure size 432x288 with 1 Axes>"
            ]
          },
          "metadata": {
            "tags": []
          }
        }
      ]
    },
    {
      "cell_type": "markdown",
      "metadata": {
        "colab_type": "text",
        "id": "Nf-Y21Fn4Aeg"
      },
      "source": [
        "## Decision Tree classifier"
      ]
    },
    {
      "cell_type": "code",
      "metadata": {
        "id": "FK5275AHzxVF",
        "colab_type": "code",
        "outputId": "47edb301-a7b8-48ea-c6a2-ef1a806f394e",
        "colab": {
          "base_uri": "https://localhost:8080/",
          "height": 119
        }
      },
      "source": [
        "from sklearn import tree\n",
        "clf_dt = tree.DecisionTreeClassifier()\n",
        "clf_dt.fit(X_train, y_train)"
      ],
      "execution_count": 0,
      "outputs": [
        {
          "output_type": "execute_result",
          "data": {
            "text/plain": [
              "DecisionTreeClassifier(ccp_alpha=0.0, class_weight=None, criterion='gini',\n",
              "                       max_depth=None, max_features=None, max_leaf_nodes=None,\n",
              "                       min_impurity_decrease=0.0, min_impurity_split=None,\n",
              "                       min_samples_leaf=1, min_samples_split=2,\n",
              "                       min_weight_fraction_leaf=0.0, presort='deprecated',\n",
              "                       random_state=None, splitter='best')"
            ]
          },
          "metadata": {
            "tags": []
          },
          "execution_count": 41
        }
      ]
    },
    {
      "cell_type": "markdown",
      "metadata": {
        "id": "W2dLHS9rzxVK",
        "colab_type": "text"
      },
      "source": [
        "Let's look at the performance of our decision tree.  Using the testing split, we'll look at overall accuracy as well as the confusion matrix to help visualize what types of mis-classifications are occurring. We'll follow a similar template going forward for additional models. "
      ]
    },
    {
      "cell_type": "code",
      "metadata": {
        "id": "EMPMfQkXzxVL",
        "colab_type": "code",
        "outputId": "b3eafc76-2cd4-40d3-a25b-06c4c326d945",
        "colab": {
          "base_uri": "https://localhost:8080/",
          "height": 34
        }
      },
      "source": [
        "# Check overall model 'accuracy'\n",
        "print(\"Accuracy for Decision Tree Classifier: {}\".format(clf_dt.score(X_test, y_test)))"
      ],
      "execution_count": 0,
      "outputs": [
        {
          "output_type": "stream",
          "text": [
            "Accuracy for Decision Tree Classifier: 0.64035\n"
          ],
          "name": "stdout"
        }
      ]
    },
    {
      "cell_type": "code",
      "metadata": {
        "id": "El36ELKGzxVQ",
        "colab_type": "code",
        "outputId": "a955fef3-240b-4d59-f668-1b31783d2944",
        "colab": {
          "base_uri": "https://localhost:8080/",
          "height": 221
        }
      },
      "source": [
        "from sklearn import metrics\n",
        "clf_dt_pred = clf_dt.predict(X_test)\n",
        "print(metrics.classification_report(y_test, clf_dt_pred, target_names = ['1', '2', '3', '4', '5']))"
      ],
      "execution_count": 0,
      "outputs": [
        {
          "output_type": "stream",
          "text": [
            "              precision    recall  f1-score   support\n",
            "\n",
            "           1       0.44      0.42      0.43      1824\n",
            "           2       0.28      0.23      0.25      1048\n",
            "           3       0.31      0.29      0.30      1422\n",
            "           4       0.35      0.33      0.34      2919\n",
            "           5       0.78      0.81      0.80     12787\n",
            "\n",
            "    accuracy                           0.64     20000\n",
            "   macro avg       0.43      0.42      0.42     20000\n",
            "weighted avg       0.63      0.64      0.63     20000\n",
            "\n"
          ],
          "name": "stdout"
        }
      ]
    },
    {
      "cell_type": "code",
      "metadata": {
        "id": "W4h6M5WmzxVT",
        "colab_type": "code",
        "colab": {}
      },
      "source": [
        "# Set up multiclass confusion matrix\n",
        "from sklearn.metrics import confusion_matrix\n",
        "clf_dt_cnf = confusion_matrix(y_test, clf_dt_pred)"
      ],
      "execution_count": 0,
      "outputs": []
    },
    {
      "cell_type": "code",
      "metadata": {
        "scrolled": false,
        "id": "x08PpH75zxVX",
        "colab_type": "code",
        "outputId": "74ff610b-429a-44b5-8424-6afd9efeecfc",
        "colab": {
          "base_uri": "https://localhost:8080/",
          "height": 279
        }
      },
      "source": [
        "# visualize confusion matrix using mlxtend \n",
        "from mlxtend.evaluate import confusion_matrix\n",
        "from mlxtend.plotting import plot_confusion_matrix\n",
        "\n",
        "fig, ax = plot_confusion_matrix(conf_mat=clf_dt_cnf)"
      ],
      "execution_count": 0,
      "outputs": [
        {
          "output_type": "display_data",
          "data": {
            "image/png": "[encoded data removed]",
            "text/plain": [
              "<Figure size 432x288 with 1 Axes>"
            ]
          },
          "metadata": {
            "tags": []
          }
        }
      ]
    },
    {
      "cell_type": "markdown",
      "metadata": {
        "id": "BhKxLJBX4H-W",
        "colab_type": "text"
      },
      "source": [
        "## Random Forest Classifier"
      ]
    },
    {
      "cell_type": "markdown",
      "metadata": {
        "colab_type": "text",
        "id": "fSpbPBIQ4Ae8"
      },
      "source": [
        "Now let's train a RandomForest. Because RF is a bagged model, and takes subsets of the samples and features, we need to specify what proportions the model can use in each individual tree.  We'll specify n_samples and n_features to match what is available from our subsample of 100k reviews, specify 10k trees/estimators, and leave other hyperparameters (informative/redundant/depth/etc.) alone for now.  We can adjust these later in an optimization pass."
      ]
    },
    {
      "cell_type": "code",
      "metadata": {
        "id": "Vpi5hpB_zxVc",
        "colab_type": "code",
        "colab": {}
      },
      "source": [
        "from sklearn.ensemble import RandomForestClassifier\n",
        "from sklearn.datasets import make_classification\n",
        "X_train, y_train = make_classification(n_samples=10000, n_features=57163, \n",
        "                                       n_informative=10000, n_redundant=100, \n",
        "                                       random_state=42, shuffle=False)"
      ],
      "execution_count": 0,
      "outputs": []
    },
    {
      "cell_type": "code",
      "metadata": {
        "id": "NhDEI-MMzxVg",
        "colab_type": "code",
        "outputId": "39ff7771-a266-4b64-d7ce-1995ed90c9fb",
        "colab": {
          "base_uri": "https://localhost:8080/",
          "height": 159
        }
      },
      "source": [
        "clf_rf = RandomForestClassifier(max_depth=5, n_estimators=10000, random_state=42)\n",
        "clf_rf.fit(X_train, y_train)"
      ],
      "execution_count": 0,
      "outputs": [
        {
          "output_type": "execute_result",
          "data": {
            "text/plain": [
              "RandomForestClassifier(bootstrap=True, ccp_alpha=0.0, class_weight=None,\n",
              "                       criterion='gini', max_depth=5, max_features='auto',\n",
              "                       max_leaf_nodes=None, max_samples=None,\n",
              "                       min_impurity_decrease=0.0, min_impurity_split=None,\n",
              "                       min_samples_leaf=1, min_samples_split=2,\n",
              "                       min_weight_fraction_leaf=0.0, n_estimators=10000,\n",
              "                       n_jobs=None, oob_score=False, random_state=42, verbose=0,\n",
              "                       warm_start=False)"
            ]
          },
          "metadata": {
            "tags": []
          },
          "execution_count": 41
        }
      ]
    },
    {
      "cell_type": "code",
      "metadata": {
        "id": "EhL0yfMKzxVi",
        "colab_type": "code",
        "outputId": "3831cfe4-09da-4b56-84db-ec3d431cb39b",
        "colab": {
          "base_uri": "https://localhost:8080/",
          "height": 35
        }
      },
      "source": [
        "# Check overall model 'accuracy'\n",
        "print(\"Accuracy for RandomForest Classifier: {}\".format(clf_rf.score(X_test, y_test)))"
      ],
      "execution_count": 0,
      "outputs": [
        {
          "output_type": "stream",
          "text": [
            "Accuracy for RandomForest Classifier: 0.0912\n"
          ],
          "name": "stdout"
        }
      ]
    },
    {
      "cell_type": "code",
      "metadata": {
        "id": "OOduHMTRzxVm",
        "colab_type": "code",
        "outputId": "6a28ea98-c119-4294-d44a-de7a60405a4f",
        "colab": {
          "base_uri": "https://localhost:8080/",
          "height": 286
        }
      },
      "source": [
        "# Set up classification report and confusion matrix\n",
        "from sklearn import metrics\n",
        "from sklearn.metrics import confusion_matrix\n",
        "clf_rf_pred = clf_rf.predict(X_test)\n",
        "print(metrics.classification_report(y_test, clf_rf_pred, target_names = ['1', '2', '3', '4', '5']))"
      ],
      "execution_count": 0,
      "outputs": [
        {
          "output_type": "stream",
          "text": [
            "              precision    recall  f1-score   support\n",
            "\n",
            "           1       0.09      1.00      0.17      1824\n",
            "           2       0.00      0.00      0.00      1048\n",
            "           3       0.00      0.00      0.00      1422\n",
            "           4       0.00      0.00      0.00      2919\n",
            "           5       0.00      0.00      0.00     12787\n",
            "\n",
            "    accuracy                           0.09     20000\n",
            "   macro avg       0.02      0.20      0.03     20000\n",
            "weighted avg       0.01      0.09      0.02     20000\n",
            "\n"
          ],
          "name": "stdout"
        },
        {
          "output_type": "stream",
          "text": [
            "/usr/local/lib/python3.6/dist-packages/sklearn/metrics/_classification.py:1272: UndefinedMetricWarning: Precision and F-score are ill-defined and being set to 0.0 in labels with no predicted samples. Use `zero_division` parameter to control this behavior.\n",
            "  _warn_prf(average, modifier, msg_start, len(result))\n"
          ],
          "name": "stderr"
        }
      ]
    },
    {
      "cell_type": "code",
      "metadata": {
        "id": "7c-ZGQh2zxVp",
        "colab_type": "code",
        "colab": {}
      },
      "source": [
        "clf_rf_cnf = confusion_matrix(y_test, clf_rf_pred)"
      ],
      "execution_count": 0,
      "outputs": []
    },
    {
      "cell_type": "code",
      "metadata": {
        "scrolled": false,
        "id": "UZ4X6EpYzxVr",
        "colab_type": "code",
        "outputId": "8bd20f6a-1c73-45c8-cd93-67c2a2c66413",
        "colab": {
          "base_uri": "https://localhost:8080/",
          "height": 279
        }
      },
      "source": [
        "# visualize confusion matrix using mlxtend \n",
        "from mlxtend.evaluate import confusion_matrix\n",
        "from mlxtend.plotting import plot_confusion_matrix\n",
        "\n",
        "fig, ax = plot_confusion_matrix(conf_mat=clf_rf_cnf)"
      ],
      "execution_count": 0,
      "outputs": [
        {
          "output_type": "display_data",
          "data": {
            "image/png": "[encoded data removed]",
            "text/plain": [
              "<Figure size 432x288 with 1 Axes>"
            ]
          },
          "metadata": {
            "tags": []
          }
        }
      ]
    },
    {
      "cell_type": "markdown",
      "metadata": {
        "id": "VhNEwYYnzxVu",
        "colab_type": "text"
      },
      "source": [
        "Our RandomForest appears to only be predicting one class (0).  A quick search indicates that, for datasets where individual features are pooly correlated with the target variable, such as sparse arrays generated by TFIDF, a RandomForest can get stuck and only predict one class.  We'll optimize this in the next section and hope for better performance than just the base rate."
      ]
    },
    {
      "cell_type": "markdown",
      "metadata": {
        "colab_type": "text",
        "id": "hjaghlSzEQLK"
      },
      "source": [
        "## K-Nearest Neighbors Classifier"
      ]
    },
    {
      "cell_type": "code",
      "metadata": {
        "colab_type": "code",
        "id": "F-KzOgQUEQLW",
        "outputId": "51263e00-96fd-47af-ecdc-569f8d256712",
        "colab": {
          "base_uri": "https://localhost:8080/",
          "height": 70
        }
      },
      "source": [
        "from sklearn.neighbors import KNeighborsClassifier\n",
        "clf_knn = KNeighborsClassifier( )\n",
        "clf_knn.fit(X_train, y_train)"
      ],
      "execution_count": 0,
      "outputs": [
        {
          "output_type": "execute_result",
          "data": {
            "text/plain": [
              "KNeighborsClassifier(algorithm='auto', leaf_size=30, metric='minkowski',\n",
              "                     metric_params=None, n_jobs=None, n_neighbors=5, p=2,\n",
              "                     weights='uniform')"
            ]
          },
          "metadata": {
            "tags": []
          },
          "execution_count": 31
        }
      ]
    },
    {
      "cell_type": "code",
      "metadata": {
        "colab_type": "code",
        "outputId": "fda1b6c8-b952-4d4b-d390-7565cfe71935",
        "id": "K5DSJzJFEQLe",
        "colab": {
          "base_uri": "https://localhost:8080/",
          "height": 35
        }
      },
      "source": [
        "# Check overall model 'accuracy'\n",
        "print(\"Accuracy for KNN Classifier: {}\".format(clf_knn.score(X_test, y_test)))"
      ],
      "execution_count": 0,
      "outputs": [
        {
          "output_type": "stream",
          "text": [
            "Accuracy for KNN Classifier: 0.65585\n"
          ],
          "name": "stdout"
        }
      ]
    },
    {
      "cell_type": "code",
      "metadata": {
        "colab_type": "code",
        "outputId": "85cd1a22-b7d8-4442-c104-14bed8282e12",
        "id": "qtHOSLbAEQLh",
        "colab": {
          "base_uri": "https://localhost:8080/",
          "height": 230
        }
      },
      "source": [
        "# Set up classification report and confusion matrix\n",
        "from sklearn import metrics\n",
        "from sklearn.metrics import confusion_matrix\n",
        "clf_knn_pred = clf_knn.predict(X_test)\n",
        "print(metrics.classification_report(y_test, clf_knn_pred, target_names = ['1', '2', '3', '4', '5']))"
      ],
      "execution_count": 0,
      "outputs": [
        {
          "output_type": "stream",
          "text": [
            "              precision    recall  f1-score   support\n",
            "\n",
            "           1       0.60      0.17      0.26      1824\n",
            "           2       0.30      0.06      0.10      1048\n",
            "           3       0.34      0.09      0.14      1422\n",
            "           4       0.42      0.11      0.17      2919\n",
            "           5       0.68      0.96      0.80     12787\n",
            "\n",
            "    accuracy                           0.66     20000\n",
            "   macro avg       0.47      0.28      0.29     20000\n",
            "weighted avg       0.59      0.66      0.57     20000\n",
            "\n"
          ],
          "name": "stdout"
        }
      ]
    },
    {
      "cell_type": "code",
      "metadata": {
        "colab_type": "code",
        "id": "n_CwCYJdEQLj",
        "colab": {}
      },
      "source": [
        "clf_knn_cnf = confusion_matrix(y_test, clf_knn_pred)"
      ],
      "execution_count": 0,
      "outputs": []
    },
    {
      "cell_type": "code",
      "metadata": {
        "scrolled": false,
        "colab_type": "code",
        "outputId": "63d0687e-7449-4514-ec9b-f95dd3007a59",
        "id": "67lKpPutEQLm",
        "colab": {
          "base_uri": "https://localhost:8080/",
          "height": 279
        }
      },
      "source": [
        "# visualize confusion matrix using mlxtend \n",
        "from mlxtend.evaluate import confusion_matrix\n",
        "from mlxtend.plotting import plot_confusion_matrix\n",
        "\n",
        "fig, ax = plot_confusion_matrix(conf_mat=clf_knn_cnf)"
      ],
      "execution_count": 0,
      "outputs": [
        {
          "output_type": "display_data",
          "data": {
            "image/png": "[encoded data removed]",
            "text/plain": [
              "<Figure size 432x288 with 1 Axes>"
            ]
          },
          "metadata": {
            "tags": []
          }
        }
      ]
    },
    {
      "cell_type": "markdown",
      "metadata": {
        "colab_type": "text",
        "id": "zdX78bSMK0nc"
      },
      "source": [
        "## Support Vector Machine Classifier"
      ]
    },
    {
      "cell_type": "markdown",
      "metadata": {
        "colab_type": "text",
        "id": "Y2rqDJZiK0nf"
      },
      "source": [
        "The last 'off the shelf' model we'll train is SVM.  We'll try the LinearSVC implementation so we can compare more easily if/when we address this model in the optimization section. \n",
        "\n",
        "The only change we'll make up front is to use L1 regularization instead of the default L2.  Because our data is so sparse, L1 is likely to perform better than L2 for our purposes."
      ]
    },
    {
      "cell_type": "code",
      "metadata": {
        "colab_type": "code",
        "id": "i0mEBxVIK0ng",
        "colab": {}
      },
      "source": [
        "from sklearn.svm import LinearSVC\n",
        "from sklearn.datasets import make_classification\n",
        "# using the settings for make_classification that we used for RandomForest\n",
        "X_train, y_train = make_classification(n_samples=10000, n_features=57163, \n",
        "                                       n_informative=10000, n_redundant=100, \n",
        "                                       random_state=42, shuffle=False)"
      ],
      "execution_count": 0,
      "outputs": []
    },
    {
      "cell_type": "code",
      "metadata": {
        "colab_type": "code",
        "outputId": "41d45d5a-323b-4c61-e224-cd51dfa0528b",
        "id": "3sSUm-UCK0nj",
        "colab": {
          "base_uri": "https://localhost:8080/",
          "height": 124
        }
      },
      "source": [
        "clf_svm = LinearSVC(penalty='l1', dual=False, random_state=42, tol=1e-5)\n",
        "clf_svm.fit(X_train, y_train)"
      ],
      "execution_count": 0,
      "outputs": [
        {
          "output_type": "stream",
          "text": [
            "/usr/local/lib/python3.6/dist-packages/sklearn/svm/_base.py:947: ConvergenceWarning: Liblinear failed to converge, increase the number of iterations.\n",
            "  \"the number of iterations.\", ConvergenceWarning)\n"
          ],
          "name": "stderr"
        },
        {
          "output_type": "execute_result",
          "data": {
            "text/plain": [
              "LinearSVC(C=1.0, class_weight=None, dual=False, fit_intercept=True,\n",
              "          intercept_scaling=1, loss='squared_hinge', max_iter=1000,\n",
              "          multi_class='ovr', penalty='l1', random_state=42, tol=1e-05,\n",
              "          verbose=0)"
            ]
          },
          "metadata": {
            "tags": []
          },
          "execution_count": 4
        }
      ]
    },
    {
      "cell_type": "code",
      "metadata": {
        "colab_type": "code",
        "outputId": "65ab6ab4-8dd7-4665-f946-9d20aab2f31b",
        "id": "uAl7vi5YK0nn",
        "colab": {
          "base_uri": "https://localhost:8080/",
          "height": 35
        }
      },
      "source": [
        "# Check overall model 'accuracy'\n",
        "print(\"Accuracy for SVM Classifier: {}\".format(clf_svm.score(X_test, y_test)))"
      ],
      "execution_count": 0,
      "outputs": [
        {
          "output_type": "stream",
          "text": [
            "Accuracy for SVM Classifier: 0.06105\n"
          ],
          "name": "stdout"
        }
      ]
    },
    {
      "cell_type": "code",
      "metadata": {
        "colab_type": "code",
        "outputId": "e75b13b1-ba9a-4a99-e248-27ff98deb254",
        "id": "l-_JWFGnK0np",
        "colab": {
          "base_uri": "https://localhost:8080/",
          "height": 339
        }
      },
      "source": [
        "# Set up classification report and confusion matrix\n",
        "from sklearn import metrics\n",
        "from sklearn.metrics import confusion_matrix\n",
        "clf_svm_pred = clf_svm.predict(X_test)\n",
        "print(metrics.classification_report(y_test, clf_svm_pred))"
      ],
      "execution_count": 0,
      "outputs": [
        {
          "output_type": "stream",
          "text": [
            "              precision    recall  f1-score   support\n",
            "\n",
            "           0       0.00      0.00      0.00         0\n",
            "           1       0.10      0.67      0.17      1824\n",
            "           2       0.00      0.00      0.00      1048\n",
            "           3       0.00      0.00      0.00      1422\n",
            "           4       0.00      0.00      0.00      2919\n",
            "           5       0.00      0.00      0.00     12787\n",
            "\n",
            "    accuracy                           0.06     20000\n",
            "   macro avg       0.02      0.11      0.03     20000\n",
            "weighted avg       0.01      0.06      0.02     20000\n",
            "\n"
          ],
          "name": "stdout"
        },
        {
          "output_type": "stream",
          "text": [
            "/usr/local/lib/python3.6/dist-packages/sklearn/metrics/_classification.py:1272: UndefinedMetricWarning: Precision and F-score are ill-defined and being set to 0.0 in labels with no predicted samples. Use `zero_division` parameter to control this behavior.\n",
            "  _warn_prf(average, modifier, msg_start, len(result))\n",
            "/usr/local/lib/python3.6/dist-packages/sklearn/metrics/_classification.py:1272: UndefinedMetricWarning: Recall and F-score are ill-defined and being set to 0.0 in labels with no true samples. Use `zero_division` parameter to control this behavior.\n",
            "  _warn_prf(average, modifier, msg_start, len(result))\n"
          ],
          "name": "stderr"
        }
      ]
    },
    {
      "cell_type": "code",
      "metadata": {
        "colab_type": "code",
        "id": "2LlWMlYQK0ns",
        "colab": {}
      },
      "source": [
        "clf_svm_cnf = confusion_matrix(y_test, clf_svm_pred)"
      ],
      "execution_count": 0,
      "outputs": []
    },
    {
      "cell_type": "code",
      "metadata": {
        "scrolled": false,
        "colab_type": "code",
        "outputId": "9d7b4630-2814-49db-9dd1-6c06e5f09021",
        "id": "0MCQECyoK0nv",
        "colab": {
          "base_uri": "https://localhost:8080/",
          "height": 315
        }
      },
      "source": [
        "# visualize confusion matrix using mlxtend \n",
        "from mlxtend.evaluate import confusion_matrix\n",
        "from mlxtend.plotting import plot_confusion_matrix\n",
        "\n",
        "fig, ax = plot_confusion_matrix(conf_mat=clf_svm_cnf)"
      ],
      "execution_count": 0,
      "outputs": [
        {
          "output_type": "stream",
          "text": [
            "/usr/local/lib/python3.6/dist-packages/mlxtend/plotting/plot_confusion_matrix.py:59: RuntimeWarning: invalid value encountered in true_divide\n",
            "  normed_conf_mat = conf_mat.astype('float') / total_samples\n"
          ],
          "name": "stderr"
        },
        {
          "output_type": "display_data",
          "data": {
            "image/png": "[encoded data removed]",
            "text/plain": [
              "<Figure size 432x288 with 1 Axes>"
            ]
          },
          "metadata": {
            "tags": []
          }
        }
      ]
    },
    {
      "cell_type": "markdown",
      "metadata": {
        "id": "50mffr-G90ya",
        "colab_type": "text"
      },
      "source": [
        "## XGBoost Classifier\n",
        "As one of the top ensemble performers, it makes sense to include XGBoost in our model comparison."
      ]
    },
    {
      "cell_type": "code",
      "metadata": {
        "colab_type": "code",
        "id": "0f9GjOGsy50n",
        "scrolled": true,
        "outputId": "a3fde3e4-32dc-4c54-9da3-346083a25c63",
        "colab": {
          "base_uri": "https://localhost:8080/"
        }
      },
      "source": [
        "from xgboost import XGBClassifier\n",
        "clf_xgb = XGBClassifier()\n",
        "clf_xgb.fit(X_train, y_train)"
      ],
      "execution_count": 0,
      "outputs": [
        {
          "output_type": "execute_result",
          "data": {
            "text/plain": [
              "XGBClassifier(base_score=0.5, booster='gbtree', colsample_bylevel=1,\n",
              "              colsample_bynode=1, colsample_bytree=1, gamma=0,\n",
              "              learning_rate=0.1, max_delta_step=0, max_depth=3,\n",
              "              min_child_weight=1, missing=None, n_estimators=100, n_jobs=1,\n",
              "              nthread=None, objective='multi:softprob', random_state=0,\n",
              "              reg_alpha=0, reg_lambda=1, scale_pos_weight=1, seed=None,\n",
              "              silent=None, subsample=1, verbosity=1)"
            ]
          },
          "metadata": {
            "tags": []
          },
          "execution_count": 20
        }
      ]
    },
    {
      "cell_type": "code",
      "metadata": {
        "scrolled": true,
        "id": "4ZP21O-QzxVz",
        "colab_type": "code",
        "outputId": "32552eef-1f1d-4e7d-8e58-b6856fd78635",
        "colab": {
          "base_uri": "https://localhost:8080/"
        }
      },
      "source": [
        "# Check overall model 'accuracy'\n",
        "print(\"Accuracy for XGBoost Classifier: {}\".format(clf_xgb.score(X_test, y_test)))"
      ],
      "execution_count": 0,
      "outputs": [
        {
          "output_type": "stream",
          "text": [
            "Accuracy for RandomForest Classifier: 0.6686\n"
          ],
          "name": "stdout"
        }
      ]
    },
    {
      "cell_type": "code",
      "metadata": {
        "id": "E3oGIcEPzxV4",
        "colab_type": "code",
        "outputId": "1bed0b29-828f-44af-da30-10289d4aa504",
        "colab": {
          "base_uri": "https://localhost:8080/"
        }
      },
      "source": [
        "# Set up classification report and confusion matrix\n",
        "from sklearn import metrics\n",
        "from sklearn.metrics import confusion_matrix\n",
        "clf_xgb_pred = clf_xgb.predict(X_test)\n",
        "print(metrics.classification_report(y_test, clf_xgb_pred, target_names = ['1', '2', '3', '4', '5']))\n",
        "clf_xgb_cnf = confusion_matrix(y_test, clf_xgb_pred)"
      ],
      "execution_count": 0,
      "outputs": [
        {
          "output_type": "stream",
          "text": [
            "              precision    recall  f1-score   support\n",
            "\n",
            "           1       0.76      0.18      0.29      1824\n",
            "           2       0.43      0.02      0.03      1048\n",
            "           3       0.59      0.06      0.10      1422\n",
            "           4       0.54      0.09      0.15      2919\n",
            "           5       0.67      0.99      0.80     12787\n",
            "\n",
            "    accuracy                           0.67     20000\n",
            "   macro avg       0.60      0.27      0.28     20000\n",
            "weighted avg       0.64      0.67      0.57     20000\n",
            "\n"
          ],
          "name": "stdout"
        }
      ]
    },
    {
      "cell_type": "code",
      "metadata": {
        "scrolled": false,
        "id": "dLm8FZfvzxV_",
        "colab_type": "code",
        "outputId": "41ab13be-4944-4fe5-a479-8173ca265d85",
        "colab": {
          "base_uri": "https://localhost:8080/"
        }
      },
      "source": [
        "# visualize confusion matrix using mlxtend \n",
        "from mlxtend.evaluate import confusion_matrix\n",
        "from mlxtend.plotting import plot_confusion_matrix\n",
        "\n",
        "fig, ax = plot_confusion_matrix(conf_mat=clf_xgb_cnf)"
      ],
      "execution_count": 0,
      "outputs": [
        {
          "output_type": "display_data",
          "data": {
            "image/png": "[encoded data removed]",
            "text/plain": [
              "<Figure size 432x288 with 1 Axes>"
            ]
          },
          "metadata": {
            "tags": []
          }
        }
      ]
    },
    {
      "cell_type": "markdown",
      "metadata": {
        "id": "6m__7SEUKfFD",
        "colab_type": "text"
      },
      "source": [
        "# 5.) Initial Model Comparison\n"
      ]
    },
    {
      "cell_type": "markdown",
      "metadata": {
        "id": "o0L8o4vcKlTR",
        "colab_type": "text"
      },
      "source": [
        "Let's compare unweighted Accuracy first to see in a gross sense how our models are performing.\n",
        "* Logistic Regression: 0.73255\n",
        "* Decision Tree: 0.64035\n",
        "* RandomForest: 0.0912\n",
        "* KNN: 0.65585\n",
        "* SVM: 0.06105\n",
        "* XGBoost: 0.6686\n",
        "\n",
        "For now, the clear winner is actually the simplest algorithm: Logistic Regression (73%).  The bonus algorithm, XGBoost, comes in at a distant second with 67%.  KNN (~66%) is a the middling performer in third place, and I will optimize it and see how it fares against the top two.  A few models seem to get 'lost' in the sparse dataset, which is mostly zeroes, as is normal for TFIDF-generated features.  The reason this occurs with this application of RandomForest is because of a computational limitation.  I can't run the full number of samples or features, as it crashes even a high-RAM runtime on Colab, and never finishes when run locally on my machine.  A strong consideration for model selection is performance relative to available resources (hardware, time, etc.). Given the size of our dataset, it's not surprising that it's computationally intensive.  SVM also doesn't perform as intended; perhaps the classes are not linearly separable due to the number of shared and/or missing features in our sparse dataset.  A linear kernel won't be able to separate non-linearly separable classes, and thus it seems unable to correctly classify most of the findings, dumping everything into either 1 or 2 star classes.  Running an RBF or polynomial kernel might do the trick, but given the size of our dataset and the aforementioned computational limitations I won't try those more intensive kernels which just crash the runtime.  Due to these computational constraints, I'll drop RF and SVM from our consideration and focus on Logistic Regression, KNN, and XGBoost.  \n",
        "\n",
        "After I optimize the top three performers, I can take a deeper look at the confusion matrices for each model.  For now, a quick skim of the models that do finish indicates that the majority of classification errors is actually in the 1 star category.  XGBoost and KNN correctly classify about 300+ of the roughly 1800 1 star ratings, whereas Logistic Regression correctly classifies 1150-ish of them.  This better classification of 1 star reviews accounts for much of the improvement in overall accuracy (~6-8%) over the other two models. I'll keep an eye on the per-class accuracy after optimization, and print a normalized confusion matrix to make the per-class accuracy a little easier to visualize, especially given the stark class imbalance."
      ]
    },
    {
      "cell_type": "markdown",
      "metadata": {
        "id": "043RHChSH0zX",
        "colab_type": "text"
      },
      "source": [
        "# 6.) Optimization of Top Performers by GridSearchCV\n",
        "\n",
        "Based on our initial model comparison, I've decided to try to optimize Logistic Regression, KNN, and XGBoost classifiers.  To achieve this, we'll employ grid search to test different values for relevant hyperparameters specific to each model, and use the cross-validated implementation to get some robustness to these estimates (GridSearchCV).\n",
        "\n",
        "There are a lot of potential hyperparameters to test for each model.  Due to the computational limitations, I'll only pursue a few key hyperparameters for each model.\n"
      ]
    },
    {
      "cell_type": "markdown",
      "metadata": {
        "id": "CuV8v9_84TO4",
        "colab_type": "text"
      },
      "source": [
        "## Logistic Regression GridSearchCV"
      ]
    },
    {
      "cell_type": "markdown",
      "metadata": {
        "id": "_b2rIVrM_zoN",
        "colab_type": "text"
      },
      "source": [
        "I'll do gridsearch across a few hyperparameters for this project\n",
        "\n",
        "Since we learned l1 (lasso) and l2 (ridge) regularization earlier in the curriculum, I wanted to include those in the GridSearch. Unfortunately only L2 is supported for the lbfgs solver.\n",
        "\n",
        "Additionally, we learned about lambda, or SKlearn's implementation as \"C\".  I'll explore that hyperparamter, and it's interaction with regularization on the resulting logistic regression model to hopefully mitigate any overfitting.\n",
        "\n",
        "We can also explore iterations (max_iter) to see how the model converges across additional iterations."
      ]
    },
    {
      "cell_type": "code",
      "metadata": {
        "id": "gga_GDaZ4TEI",
        "colab_type": "code",
        "colab": {}
      },
      "source": [
        "from sklearn.model_selection import GridSearchCV\n",
        "from sklearn.linear_model import LogisticRegression\n",
        "\n",
        "lr_cv_params = {\"C\": np.logspace(-1,1,10), \"max_iter\": [1000, 5000, 10000]}\n",
        "clf_lr = LogisticRegression()\n",
        "clf_lr_optimized = GridSearchCV(clf_lr, lr_cv_params, cv=5)"
      ],
      "execution_count": 0,
      "outputs": []
    },
    {
      "cell_type": "code",
      "metadata": {
        "id": "5aBV9YlpBqrK",
        "colab_type": "code",
        "outputId": "6ce601d7-0681-4c78-f732-a6740b0b8ef8",
        "colab": {
          "base_uri": "https://localhost:8080/",
          "height": 279
        }
      },
      "source": [
        "clf_lr_optimized.fit(X_train, y_train)"
      ],
      "execution_count": 0,
      "outputs": [
        {
          "output_type": "execute_result",
          "data": {
            "text/plain": [
              "GridSearchCV(cv=5, error_score=nan,\n",
              "             estimator=LogisticRegression(C=1.0, class_weight=None, dual=False,\n",
              "                                          fit_intercept=True,\n",
              "                                          intercept_scaling=1, l1_ratio=None,\n",
              "                                          max_iter=100, multi_class='auto',\n",
              "                                          n_jobs=None, penalty='l2',\n",
              "                                          random_state=None, solver='lbfgs',\n",
              "                                          tol=0.0001, verbose=0,\n",
              "                                          warm_start=False),\n",
              "             iid='deprecated', n_jobs=None,\n",
              "             param_grid={'C': array([ 0.1       ,  0.16681005,  0.27825594,  0.46415888,  0.77426368,\n",
              "        1.29154967,  2.15443469,  3.59381366,  5.9948425 , 10.        ]),\n",
              "                         'max_iter': [1000, 5000, 10000]},\n",
              "             pre_dispatch='2*n_jobs', refit=True, return_train_score=False,\n",
              "             scoring=None, verbose=0)"
            ]
          },
          "metadata": {
            "tags": []
          },
          "execution_count": 31
        }
      ]
    },
    {
      "cell_type": "code",
      "metadata": {
        "id": "bGj-qZErEK21",
        "colab_type": "code",
        "outputId": "37af96d9-ac6b-44b8-ca7b-f16470b7a9a6",
        "colab": {
          "base_uri": "https://localhost:8080/",
          "height": 1000
        }
      },
      "source": [
        "# Check per-grid model 'accuracy'\n",
        "print(\"Accuracy for Logistic Regression Classifier Grids: {}\".format(clf_lr_optimized.cv_results_))"
      ],
      "execution_count": 0,
      "outputs": [
        {
          "output_type": "stream",
          "text": [
            "Accuracy for Logistic Regression Classifier Grids: {'mean_fit_time': array([ 20.54992661,  20.44768906,  20.43586836,  25.46878963,\n",
            "        25.52496228,  26.00203881,  32.57399631,  33.39406004,\n",
            "        32.35060434,  39.91601825,  40.05834599,  39.41408267,\n",
            "        51.42663751,  51.51146331,  52.34582887,  61.67989998,\n",
            "        61.40725336,  59.98273859,  75.70241828,  75.98139467,\n",
            "        77.67206345,  99.07418561,  95.92209525,  95.60502043,\n",
            "       119.043608  , 116.54246101, 116.31297112, 147.01930051,\n",
            "       144.34490271, 145.16077685]), 'std_fit_time': array([0.45181426, 0.46901138, 0.49319605, 0.6145044 , 0.61127067,\n",
            "       0.68652981, 0.91619588, 1.02301185, 0.93549142, 0.67455508,\n",
            "       0.64574495, 0.35084214, 1.5580129 , 1.57430145, 1.14133378,\n",
            "       2.67822002, 1.82776305, 2.08818811, 2.63414684, 2.6902825 ,\n",
            "       3.12870156, 3.23676102, 2.60022797, 2.32300336, 5.26908018,\n",
            "       5.46970992, 5.29687587, 7.41316094, 6.19139386, 7.19790819]), 'mean_score_time': array([0.01649933, 0.01606283, 0.01587839, 0.01616545, 0.01647902,\n",
            "       0.01666479, 0.01657543, 0.01725445, 0.01649914, 0.0166801 ,\n",
            "       0.01648889, 0.01624241, 0.01664534, 0.01666942, 0.01624541,\n",
            "       0.01718092, 0.01767197, 0.0166451 , 0.01593127, 0.01667953,\n",
            "       0.01691818, 0.01708665, 0.01610427, 0.01604629, 0.01633883,\n",
            "       0.0156415 , 0.01682525, 0.01644015, 0.0160532 , 0.01652427]), 'std_score_time': array([0.00090822, 0.00040463, 0.0004581 , 0.00059057, 0.00080798,\n",
            "       0.00059062, 0.00078295, 0.00067372, 0.00070221, 0.00044869,\n",
            "       0.00105234, 0.00047358, 0.00060688, 0.00071427, 0.00061497,\n",
            "       0.00061483, 0.00065445, 0.00072059, 0.00049843, 0.00067118,\n",
            "       0.00045168, 0.00069966, 0.00040888, 0.00073779, 0.00052348,\n",
            "       0.0001901 , 0.00075078, 0.00084329, 0.00073127, 0.00058181]), 'param_C': masked_array(data=[0.1, 0.1, 0.1, 0.16681005372000587,\n",
            "                   0.16681005372000587, 0.16681005372000587,\n",
            "                   0.2782559402207124, 0.2782559402207124,\n",
            "                   0.2782559402207124, 0.46415888336127786,\n",
            "                   0.46415888336127786, 0.46415888336127786,\n",
            "                   0.774263682681127, 0.774263682681127,\n",
            "                   0.774263682681127, 1.291549665014884,\n",
            "                   1.291549665014884, 1.291549665014884,\n",
            "                   2.1544346900318834, 2.1544346900318834,\n",
            "                   2.1544346900318834, 3.593813663804626,\n",
            "                   3.593813663804626, 3.593813663804626,\n",
            "                   5.994842503189409, 5.994842503189409,\n",
            "                   5.994842503189409, 10.0, 10.0, 10.0],\n",
            "             mask=[False, False, False, False, False, False, False, False,\n",
            "                   False, False, False, False, False, False, False, False,\n",
            "                   False, False, False, False, False, False, False, False,\n",
            "                   False, False, False, False, False, False],\n",
            "       fill_value='?',\n",
            "            dtype=object), 'param_max_iter': masked_array(data=[1000, 5000, 10000, 1000, 5000, 10000, 1000, 5000,\n",
            "                   10000, 1000, 5000, 10000, 1000, 5000, 10000, 1000,\n",
            "                   5000, 10000, 1000, 5000, 10000, 1000, 5000, 10000,\n",
            "                   1000, 5000, 10000, 1000, 5000, 10000],\n",
            "             mask=[False, False, False, False, False, False, False, False,\n",
            "                   False, False, False, False, False, False, False, False,\n",
            "                   False, False, False, False, False, False, False, False,\n",
            "                   False, False, False, False, False, False],\n",
            "       fill_value='?',\n",
            "            dtype=object), 'params': [{'C': 0.1, 'max_iter': 1000}, {'C': 0.1, 'max_iter': 5000}, {'C': 0.1, 'max_iter': 10000}, {'C': 0.16681005372000587, 'max_iter': 1000}, {'C': 0.16681005372000587, 'max_iter': 5000}, {'C': 0.16681005372000587, 'max_iter': 10000}, {'C': 0.2782559402207124, 'max_iter': 1000}, {'C': 0.2782559402207124, 'max_iter': 5000}, {'C': 0.2782559402207124, 'max_iter': 10000}, {'C': 0.46415888336127786, 'max_iter': 1000}, {'C': 0.46415888336127786, 'max_iter': 5000}, {'C': 0.46415888336127786, 'max_iter': 10000}, {'C': 0.774263682681127, 'max_iter': 1000}, {'C': 0.774263682681127, 'max_iter': 5000}, {'C': 0.774263682681127, 'max_iter': 10000}, {'C': 1.291549665014884, 'max_iter': 1000}, {'C': 1.291549665014884, 'max_iter': 5000}, {'C': 1.291549665014884, 'max_iter': 10000}, {'C': 2.1544346900318834, 'max_iter': 1000}, {'C': 2.1544346900318834, 'max_iter': 5000}, {'C': 2.1544346900318834, 'max_iter': 10000}, {'C': 3.593813663804626, 'max_iter': 1000}, {'C': 3.593813663804626, 'max_iter': 5000}, {'C': 3.593813663804626, 'max_iter': 10000}, {'C': 5.994842503189409, 'max_iter': 1000}, {'C': 5.994842503189409, 'max_iter': 5000}, {'C': 5.994842503189409, 'max_iter': 10000}, {'C': 10.0, 'max_iter': 1000}, {'C': 10.0, 'max_iter': 5000}, {'C': 10.0, 'max_iter': 10000}], 'split0_test_score': array([0.6856875, 0.6856875, 0.6856875, 0.7019375, 0.7019375, 0.7019375,\n",
            "       0.7136875, 0.7136875, 0.7136875, 0.7219375, 0.7219375, 0.7219375,\n",
            "       0.730125 , 0.730125 , 0.730125 , 0.734125 , 0.734125 , 0.734125 ,\n",
            "       0.7346875, 0.7346875, 0.7346875, 0.73575  , 0.73575  , 0.73575  ,\n",
            "       0.7363125, 0.7363125, 0.7363125, 0.7351875, 0.7351875, 0.7351875]), 'split1_test_score': array([0.68275  , 0.68275  , 0.68275  , 0.695875 , 0.695875 , 0.695875 ,\n",
            "       0.7099375, 0.7099375, 0.7099375, 0.717    , 0.717    , 0.717    ,\n",
            "       0.724    , 0.724    , 0.724    , 0.729125 , 0.729125 , 0.729125 ,\n",
            "       0.729375 , 0.729375 , 0.729375 , 0.7309375, 0.7309375, 0.7309375,\n",
            "       0.729875 , 0.729875 , 0.729875 , 0.72775  , 0.72775  , 0.72775  ]), 'split2_test_score': array([0.683625 , 0.683625 , 0.683625 , 0.6975   , 0.6975   , 0.6975   ,\n",
            "       0.710625 , 0.710625 , 0.710625 , 0.717    , 0.717    , 0.717    ,\n",
            "       0.7229375, 0.7229375, 0.7229375, 0.725875 , 0.725875 , 0.725875 ,\n",
            "       0.7294375, 0.7294375, 0.7294375, 0.7295625, 0.7295625, 0.7295625,\n",
            "       0.729125 , 0.729125 , 0.729125 , 0.7270625, 0.7270625, 0.7270625]), 'split3_test_score': array([0.68575  , 0.68575  , 0.68575  , 0.6991875, 0.6991875, 0.6991875,\n",
            "       0.71125  , 0.71125  , 0.71125  , 0.7226875, 0.7226875, 0.7226875,\n",
            "       0.7315   , 0.7315   , 0.7315   , 0.7348125, 0.7348125, 0.7348125,\n",
            "       0.737    , 0.737    , 0.737    , 0.7378125, 0.7378125, 0.7378125,\n",
            "       0.7373125, 0.7373125, 0.7373125, 0.7344375, 0.7344375, 0.7344375]), 'split4_test_score': array([0.683125 , 0.683125 , 0.683125 , 0.69675  , 0.69675  , 0.69675  ,\n",
            "       0.7081875, 0.7081875, 0.7081875, 0.7179375, 0.7179375, 0.7179375,\n",
            "       0.721625 , 0.721625 , 0.721625 , 0.7249375, 0.7249375, 0.7249375,\n",
            "       0.729125 , 0.729125 , 0.729125 , 0.729125 , 0.729125 , 0.729125 ,\n",
            "       0.7291875, 0.7291875, 0.7291875, 0.72775  , 0.72775  , 0.72775  ]), 'mean_test_score': array([0.6841875, 0.6841875, 0.6841875, 0.69825  , 0.69825  , 0.69825  ,\n",
            "       0.7107375, 0.7107375, 0.7107375, 0.7193125, 0.7193125, 0.7193125,\n",
            "       0.7260375, 0.7260375, 0.7260375, 0.729775 , 0.729775 , 0.729775 ,\n",
            "       0.731925 , 0.731925 , 0.731925 , 0.7326375, 0.7326375, 0.7326375,\n",
            "       0.7323625, 0.7323625, 0.7323625, 0.7304375, 0.7304375, 0.7304375]), 'std_test_score': array([0.00128087, 0.00128087, 0.00128087, 0.00214148, 0.00214148,\n",
            "       0.00214148, 0.00179557, 0.00179557, 0.00179557, 0.00248464,\n",
            "       0.00248464, 0.00248464, 0.00399445, 0.00399445, 0.00399445,\n",
            "       0.00408247, 0.00408247, 0.00408247, 0.00328381, 0.00328381,\n",
            "       0.00328381, 0.00349719, 0.00349719, 0.00349719, 0.00365663,\n",
            "       0.00365663, 0.00365663, 0.00358883, 0.00358883, 0.00358883]), 'rank_test_score': array([28, 28, 28, 25, 25, 25, 22, 22, 22, 19, 19, 19, 16, 16, 16, 13, 13,\n",
            "       13,  7,  7,  7,  1,  1,  1,  4,  4,  4, 10, 10, 10], dtype=int32)}\n"
          ],
          "name": "stdout"
        }
      ]
    },
    {
      "cell_type": "code",
      "metadata": {
        "colab_type": "code",
        "outputId": "c15b3c9c-beb9-40ca-bb8e-d9a651a94298",
        "id": "Btk6-WlFTXKR",
        "colab": {
          "base_uri": "https://localhost:8080/",
          "height": 52
        }
      },
      "source": [
        "# Print parameters for best-performing grid\n",
        "print('Best params: %s' % clf_lr_optimized.best_params_)\n",
        "# Best training data accuracy\n",
        "print('Best GridSearchCV training accuracy: %.3f' % clf_lr_optimized.best_score_)"
      ],
      "execution_count": 0,
      "outputs": [
        {
          "output_type": "stream",
          "text": [
            "Best params: {'C': 3.593813663804626, 'max_iter': 1000}\n",
            "Best GridSearchCV training accuracy: 0.733\n"
          ],
          "name": "stdout"
        }
      ]
    },
    {
      "cell_type": "code",
      "metadata": {
        "colab_type": "code",
        "id": "fZo6SV1nTXKT",
        "colab": {}
      },
      "source": [
        "# Train model on full training split w/ best params determined by GridSearchCV \n",
        "from sklearn.linear_model import LogisticRegression\n",
        "\n",
        "clf_lr = LogisticRegression(C=3.594813663804626, max_iter=1000)\n",
        "clf_lr_optimized_final = clf_lr.fit(X_train, y_train)\n",
        "# Make predictions w/ best params\n",
        "y_pred = clf_lr_optimized_final.predict(X_test)"
      ],
      "execution_count": 0,
      "outputs": []
    },
    {
      "cell_type": "code",
      "metadata": {
        "colab_type": "code",
        "outputId": "442a91e7-be43-4b47-b26d-9f6a38cbca27",
        "id": "cocMwB2fTXKV",
        "colab": {
          "base_uri": "https://localhost:8080/",
          "height": 34
        }
      },
      "source": [
        "from sklearn.metrics import accuracy_score\n",
        "# Test data accuracy of model with best params\n",
        "print('Test set accuracy score for Logistic Regression Classifier w/ best params: %.3f ' % accuracy_score(y_test, y_pred))"
      ],
      "execution_count": 0,
      "outputs": [
        {
          "output_type": "stream",
          "text": [
            "Test set accuracy score for Logistic Regression Classifier w/ best params: 0.736 \n"
          ],
          "name": "stdout"
        }
      ]
    },
    {
      "cell_type": "code",
      "metadata": {
        "id": "lOmV5BDAk30Q",
        "colab_type": "code",
        "outputId": "bbfb4134-d78b-4279-ce94-c177428d705d",
        "colab": {
          "base_uri": "https://localhost:8080/",
          "height": 227
        }
      },
      "source": [
        "# Set up classification report and confusion matrix\n",
        "from sklearn import metrics\n",
        "from sklearn.metrics import confusion_matrix\n",
        "print(metrics.classification_report(y_test, y_pred, target_names = ['1', '2', '3', '4', '5']))\n",
        "clf_xgb_cnf = confusion_matrix(y_test, y_pred)"
      ],
      "execution_count": 0,
      "outputs": [
        {
          "output_type": "stream",
          "text": [
            "              precision    recall  f1-score   support\n",
            "\n",
            "           1       0.67      0.66      0.66      1824\n",
            "           2       0.40      0.22      0.28      1048\n",
            "           3       0.44      0.31      0.36      1422\n",
            "           4       0.49      0.28      0.36      2919\n",
            "           5       0.80      0.94      0.87     12787\n",
            "\n",
            "    accuracy                           0.74     20000\n",
            "   macro avg       0.56      0.48      0.51     20000\n",
            "weighted avg       0.70      0.74      0.71     20000\n",
            "\n"
          ],
          "name": "stdout"
        }
      ]
    },
    {
      "cell_type": "code",
      "metadata": {
        "id": "gSa9Nr4nk5Ei",
        "colab_type": "code",
        "outputId": "badd6f36-6407-4402-a3f2-913ec851399c",
        "colab": {
          "base_uri": "https://localhost:8080/",
          "height": 783
        }
      },
      "source": [
        "# plot confusion matrix without and with normalization\n",
        "from sklearn.metrics import plot_confusion_matrix\n",
        "\n",
        "class_names = ['1', '2', '3', '4', '5']\n",
        "titles_options = [(\"Confusion matrix, without normalization\", None),\n",
        "                  (\"Normalized confusion matrix\", 'true')]\n",
        "for title, normalize in titles_options:\n",
        "    disp = plot_confusion_matrix(clf_lr_optimized_final, X_test, y_test,\n",
        "                                 display_labels=class_names,\n",
        "                                 cmap=plt.cm.Blues,\n",
        "                                 normalize=normalize)\n",
        "    disp.ax_.set_title(title)\n",
        "\n",
        "    print(title)\n",
        "    print(disp.confusion_matrix)\n",
        "\n",
        "plt.show()"
      ],
      "execution_count": 0,
      "outputs": [
        {
          "output_type": "stream",
          "text": [
            "Confusion matrix, without normalization\n",
            "[[ 1198   129    97    48   352]\n",
            " [  282   228   159    97   282]\n",
            " [  126   122   445   228   501]\n",
            " [   60    53   188   813  1805]\n",
            " [  114    40   132   470 12031]]\n",
            "Normalized confusion matrix\n",
            "[[0.66 0.07 0.05 0.03 0.19]\n",
            " [0.27 0.22 0.15 0.09 0.27]\n",
            " [0.09 0.09 0.31 0.16 0.35]\n",
            " [0.02 0.02 0.06 0.28 0.62]\n",
            " [0.01 0.   0.01 0.04 0.94]]\n"
          ],
          "name": "stdout"
        },
        {
          "output_type": "display_data",
          "data": {
            "image/png": "[encoded data removed]",
            "text/plain": [
              "<Figure size 432x288 with 2 Axes>"
            ]
          },
          "metadata": {
            "tags": []
          }
        },
        {
          "output_type": "display_data",
          "data": {
            "image/png": "[encoded data removed]",
            "text/plain": [
              "<Figure size 432x288 with 2 Axes>"
            ]
          },
          "metadata": {
            "tags": []
          }
        }
      ]
    },
    {
      "cell_type": "markdown",
      "metadata": {
        "colab_type": "text",
        "id": "zFKAB7Jg4eHP"
      },
      "source": [
        "## KNN-C GridSearchCV"
      ]
    },
    {
      "cell_type": "markdown",
      "metadata": {
        "id": "n1Gs19N-FYs7",
        "colab_type": "text"
      },
      "source": [
        "There are several hyperparameters we could explore.  \n",
        "The most significant is K, or number of neighbors used to establish the classification.\n",
        "Also interesting to probe is the distance metric used to calculate distance between neighbors. SKlearn supports numerous distance measures, and since I don't understand most of them, I'll consider them out of scope for the moment.  I'll pick the two that are straightforward and approachable for me, and see how they perform. "
      ]
    },
    {
      "cell_type": "code",
      "metadata": {
        "colab_type": "code",
        "id": "NSwY1J7D4eHV",
        "colab": {}
      },
      "source": [
        "from sklearn.model_selection import GridSearchCV\n",
        "from sklearn.neighbors import KNeighborsClassifier\n",
        "\n",
        "knn_cv_params = {\"n_neighbors\": [3,5,10], \"metric\": ['euclidean', 'manhattan']}\n",
        "clf_knn = KNeighborsClassifier()\n",
        "clf_knn_optimized = GridSearchCV(clf_knn, knn_cv_params, cv=5, n_jobs = -1)"
      ],
      "execution_count": 0,
      "outputs": []
    },
    {
      "cell_type": "code",
      "metadata": {
        "id": "0YfwCM0TH7Vz",
        "colab_type": "code",
        "outputId": "f2d27096-7e04-4510-c432-04c005bb0b9d",
        "colab": {
          "base_uri": "https://localhost:8080/",
          "height": 264
        }
      },
      "source": [
        "clf_knn_optimized.fit(X_train, y_train)"
      ],
      "execution_count": 0,
      "outputs": [
        {
          "output_type": "stream",
          "text": [
            "/usr/local/lib/python3.6/dist-packages/joblib/externals/loky/process_executor.py:706: UserWarning: A worker stopped while some jobs were given to the executor. This can be caused by a too short worker timeout or by a memory leak.\n",
            "  \"timeout or by a memory leak.\", UserWarning\n"
          ],
          "name": "stderr"
        },
        {
          "output_type": "execute_result",
          "data": {
            "text/plain": [
              "GridSearchCV(cv=5, error_score=nan,\n",
              "             estimator=KNeighborsClassifier(algorithm='auto', leaf_size=30,\n",
              "                                            metric='minkowski',\n",
              "                                            metric_params=None, n_jobs=None,\n",
              "                                            n_neighbors=5, p=2,\n",
              "                                            weights='uniform'),\n",
              "             iid='deprecated', n_jobs=-1,\n",
              "             param_grid={'metric': ['euclidean', 'manhattan'],\n",
              "                         'n_neighbors': [3, 5, 10]},\n",
              "             pre_dispatch='2*n_jobs', refit=True, return_train_score=False,\n",
              "             scoring=None, verbose=0)"
            ]
          },
          "metadata": {
            "tags": []
          },
          "execution_count": 32
        }
      ]
    },
    {
      "cell_type": "code",
      "metadata": {
        "id": "qlu4gOcMH7ai",
        "colab_type": "code",
        "outputId": "6aca7dcb-db80-4ee4-bd71-d87ed3c1c01a",
        "colab": {
          "base_uri": "https://localhost:8080/",
          "height": 264
        }
      },
      "source": [
        "# Print per-grid model performance\n",
        "print(\"Parameters for KNN Classifier Grids: {}\".format(clf_knn_optimized.cv_results_))"
      ],
      "execution_count": 0,
      "outputs": [
        {
          "output_type": "stream",
          "text": [
            "Parameters for KNN Classifier Grids: {'mean_fit_time': array([0.08507133, 0.05030603, 0.05905766, 0.04587517, 0.0563827 ,\n",
            "       0.04696603]), 'std_fit_time': array([0.01958109, 0.00960556, 0.01367848, 0.00151529, 0.01041086,\n",
            "       0.00070072]), 'mean_score_time': array([ 114.99556098,  119.27788997,  115.37443318, 1229.26458564,\n",
            "       1236.10640564, 1151.67501931]), 'std_score_time': array([ 3.77772863,  2.41010019,  3.9069061 ,  2.6636643 ,  5.63242763,\n",
            "       76.47504048]), 'param_metric': masked_array(data=['euclidean', 'euclidean', 'euclidean', 'manhattan',\n",
            "                   'manhattan', 'manhattan'],\n",
            "             mask=[False, False, False, False, False, False],\n",
            "       fill_value='?',\n",
            "            dtype=object), 'param_n_neighbors': masked_array(data=[3, 5, 10, 3, 5, 10],\n",
            "             mask=[False, False, False, False, False, False],\n",
            "       fill_value='?',\n",
            "            dtype=object), 'params': [{'metric': 'euclidean', 'n_neighbors': 3}, {'metric': 'euclidean', 'n_neighbors': 5}, {'metric': 'euclidean', 'n_neighbors': 10}, {'metric': 'manhattan', 'n_neighbors': 3}, {'metric': 'manhattan', 'n_neighbors': 5}, {'metric': 'manhattan', 'n_neighbors': 10}], 'split0_test_score': array([0.656625 , 0.6555   , 0.6481875, 0.658125 , 0.64575  , 0.642125 ]), 'split1_test_score': array([0.5979375, 0.612375 , 0.643125 , 0.638375 , 0.6403125, 0.645125 ]), 'split2_test_score': array([0.6548125, 0.649125 , 0.6478125, 0.6568125, 0.646375 , 0.642375 ]), 'split3_test_score': array([0.6561875, 0.6545   , 0.6465   , 0.658    , 0.645875 , 0.6415   ]), 'split4_test_score': array([0.6550625, 0.6515   , 0.6480625, 0.6573125, 0.64625  , 0.64275  ]), 'mean_test_score': array([0.644125 , 0.6446   , 0.6467375, 0.653725 , 0.6449125, 0.642775 ]), 'std_test_score': array([0.02310364, 0.01626872, 0.0019037 , 0.00768975, 0.00231152,\n",
            "       0.00124348]), 'rank_test_score': array([5, 4, 2, 1, 3, 6], dtype=int32)}\n"
          ],
          "name": "stdout"
        }
      ]
    },
    {
      "cell_type": "code",
      "metadata": {
        "id": "FiWmItGf9TZz",
        "colab_type": "code",
        "outputId": "7bbc19f7-0bea-4008-a488-f2bf133e29a3",
        "colab": {
          "base_uri": "https://localhost:8080/",
          "height": 52
        }
      },
      "source": [
        "# Print parameters for best-performing grid\n",
        "print('Best params: %s' % clf_knn_optimized.best_params_)\n",
        "# Best training data accuracy\n",
        "print('Best GridSearchCV training accuracy: %.3f' % clf_knn_optimized.best_score_)"
      ],
      "execution_count": 0,
      "outputs": [
        {
          "output_type": "stream",
          "text": [
            "Best params: {'metric': 'manhattan', 'n_neighbors': 3}\n",
            "Best GridSearchCV training accuracy: 0.654\n"
          ],
          "name": "stdout"
        }
      ]
    },
    {
      "cell_type": "code",
      "metadata": {
        "id": "KdVHQyTg-ab8",
        "colab_type": "code",
        "colab": {}
      },
      "source": [
        "# Train model on full training split w/ best params determined by GridSearchCV \n",
        "clf_knn = KNeighborsClassifier(n_neighbors=3, metric='manhattan')\n",
        "clf_knn_optimized_final = clf_knn.fit(X_train, y_train)\n",
        "# Make predictions w/ best params\n",
        "y_pred = clf_knn_optimized_final.predict(X_test)"
      ],
      "execution_count": 0,
      "outputs": []
    },
    {
      "cell_type": "code",
      "metadata": {
        "id": "y7ETegJCDqYJ",
        "colab_type": "code",
        "outputId": "52632916-9c28-42a1-ca1a-c312b8785429",
        "colab": {
          "base_uri": "https://localhost:8080/",
          "height": 34
        }
      },
      "source": [
        "from sklearn.metrics import accuracy_score\n",
        "# Test data accuracy of model with best params\n",
        "print('Test set accuracy score for KNN Classifier w/ best params: %.3f ' % accuracy_score(y_test, y_pred))"
      ],
      "execution_count": 0,
      "outputs": [
        {
          "output_type": "stream",
          "text": [
            "Test set accuracy score for KNN Classifier w/ best params: 0.661 \n"
          ],
          "name": "stdout"
        }
      ]
    },
    {
      "cell_type": "markdown",
      "metadata": {
        "id": "tZY5E__-4G-R",
        "colab_type": "text"
      },
      "source": [
        "## XGBoost GridSearchCV"
      ]
    },
    {
      "cell_type": "code",
      "metadata": {
        "colab_type": "code",
        "id": "n6BMUSQY4eHc",
        "colab": {}
      },
      "source": [
        "from sklearn.model_selection import GridSearchCV\n",
        "from xgboost import XGBClassifier\n",
        "# Optimize for accuracy since that is the metric we used earlier to score models\n",
        "# Explore max_depth and min_child_weight via GridSearchCV\n",
        "# Reducing subsample and colsample to 0.6 to avoid RAM overrun\n",
        "\n",
        "xgb_cv_params = {'max_depth': [3,5,7], 'min_child_weight': [1,3,5]}\n",
        "xgb_ind_params = {'learning_rate': 0.1, 'n_estimators': 100, 'seed':0, 'subsample': 0.6, 'colsample_bytree': 0.6, \n",
        "             'objective': 'multi:softprob', 'num_class': 5}\n",
        "clf_xgb_optimized = GridSearchCV(XGBClassifier(**xgb_ind_params),\n",
        "                            xgb_cv_params, \n",
        "                            scoring = 'accuracy', cv = 5, n_jobs = -1)"
      ],
      "execution_count": 0,
      "outputs": []
    },
    {
      "cell_type": "code",
      "metadata": {
        "id": "ba38_0Rp7kQm",
        "colab_type": "code",
        "outputId": "bd17227b-b16d-4879-e066-56bb4e4a2930",
        "colab": {
          "base_uri": "https://localhost:8080/",
          "height": 297
        }
      },
      "source": [
        "clf_xgb_optimized.fit(X_train, y_train)"
      ],
      "execution_count": 0,
      "outputs": [
        {
          "output_type": "execute_result",
          "data": {
            "text/plain": [
              "GridSearchCV(cv=5, error_score=nan,\n",
              "             estimator=XGBClassifier(base_score=0.5, booster='gbtree',\n",
              "                                     colsample_bylevel=1, colsample_bynode=1,\n",
              "                                     colsample_bytree=0.6, gamma=0,\n",
              "                                     learning_rate=0.1, max_delta_step=0,\n",
              "                                     max_depth=3, min_child_weight=1,\n",
              "                                     missing=None, n_estimators=100, n_jobs=1,\n",
              "                                     nthread=None, num_class=5,\n",
              "                                     objective='multi:softprob', random_state=0,\n",
              "                                     reg_alpha=0, reg_lambda=1,\n",
              "                                     scale_pos_weight=1, seed=0, silent=None,\n",
              "                                     subsample=0.6, verbosity=1),\n",
              "             iid='deprecated', n_jobs=-1,\n",
              "             param_grid={'max_depth': [3, 5, 7], 'min_child_weight': [1, 3, 5]},\n",
              "             pre_dispatch='2*n_jobs', refit=True, return_train_score=False,\n",
              "             scoring='accuracy', verbose=0)"
            ]
          },
          "metadata": {
            "tags": []
          },
          "execution_count": 33
        }
      ]
    },
    {
      "cell_type": "code",
      "metadata": {
        "scrolled": true,
        "colab_type": "code",
        "outputId": "c667e130-bdd0-456b-c531-f23168604b79",
        "id": "lrhctL5y7ujl",
        "colab": {
          "base_uri": "https://localhost:8080/",
          "height": 404
        }
      },
      "source": [
        "# Check per-grid model results\n",
        "print(\"Accuracy for XGBoost Classifier Grids: {}\".format(clf_xgb_optimized.cv_results_))"
      ],
      "execution_count": 0,
      "outputs": [
        {
          "output_type": "stream",
          "text": [
            "Accuracy for XGBoost Classifier Grids: {'mean_fit_time': array([239.49633164, 234.83058887, 232.7935792 , 395.58198743,\n",
            "       390.73524346, 384.11261158, 559.71830821, 544.04163804,\n",
            "       479.79224582]), 'std_fit_time': array([ 1.03330956,  0.55936559,  0.48121445,  1.44720506,  1.34681724,\n",
            "        2.23563708,  1.18070207,  1.18308471, 60.45929325]), 'mean_score_time': array([0.91807246, 0.88803458, 0.88736854, 1.13995485, 1.13755188,\n",
            "       1.13183656, 1.56076622, 1.5801827 , 1.32419825]), 'std_score_time': array([0.02608596, 0.03716661, 0.01846848, 0.01340961, 0.02119539,\n",
            "       0.00882518, 0.01660191, 0.02803824, 0.25516256]), 'param_max_depth': masked_array(data=[3, 3, 3, 5, 5, 5, 7, 7, 7],\n",
            "             mask=[False, False, False, False, False, False, False, False,\n",
            "                   False],\n",
            "       fill_value='?',\n",
            "            dtype=object), 'param_min_child_weight': masked_array(data=[1, 3, 5, 1, 3, 5, 1, 3, 5],\n",
            "             mask=[False, False, False, False, False, False, False, False,\n",
            "                   False],\n",
            "       fill_value='?',\n",
            "            dtype=object), 'params': [{'max_depth': 3, 'min_child_weight': 1}, {'max_depth': 3, 'min_child_weight': 3}, {'max_depth': 3, 'min_child_weight': 5}, {'max_depth': 5, 'min_child_weight': 1}, {'max_depth': 5, 'min_child_weight': 3}, {'max_depth': 5, 'min_child_weight': 5}, {'max_depth': 7, 'min_child_weight': 1}, {'max_depth': 7, 'min_child_weight': 3}, {'max_depth': 7, 'min_child_weight': 5}], 'split0_test_score': array([0.670875 , 0.67175  , 0.6719375, 0.6884375, 0.689    , 0.687625 ,\n",
            "       0.7023125, 0.7021875, 0.7006875]), 'split1_test_score': array([0.6699375, 0.6705625, 0.6705   , 0.6868125, 0.688125 , 0.6861875,\n",
            "       0.700375 , 0.70075  , 0.6985   ]), 'split2_test_score': array([0.6695625, 0.670125 , 0.66975  , 0.6855   , 0.685125 , 0.6851875,\n",
            "       0.6981875, 0.696375 , 0.695    ]), 'split3_test_score': array([0.6694375, 0.6699375, 0.67     , 0.6865625, 0.6871875, 0.6855   ,\n",
            "       0.702125 , 0.7      , 0.698375 ]), 'split4_test_score': array([0.6684375, 0.668375 , 0.668875 , 0.6858125, 0.68475  , 0.6849375,\n",
            "       0.697875 , 0.69775  , 0.696375 ]), 'mean_test_score': array([0.66965  , 0.67015  , 0.6702125, 0.686625 , 0.6868375, 0.6858875,\n",
            "       0.700175 , 0.6994125, 0.6977875]), 'std_test_score': array([0.00078819, 0.00108872, 0.00101057, 0.0010247 , 0.00165812,\n",
            "       0.00096453, 0.00187891, 0.00208926, 0.0019508 ]), 'rank_test_score': array([9, 8, 7, 5, 4, 6, 1, 2, 3], dtype=int32)}\n"
          ],
          "name": "stdout"
        }
      ]
    },
    {
      "cell_type": "code",
      "metadata": {
        "colab_type": "code",
        "outputId": "07b213b5-5996-4a9e-a93b-61aac31614f2",
        "id": "3lKjZ4O5GMjW",
        "colab": {
          "base_uri": "https://localhost:8080/",
          "height": 52
        }
      },
      "source": [
        "# Print parameters for best-performing grid\n",
        "print('Best params: %s' % clf_xgb_optimized.best_params_)\n",
        "# Best training data accuracy\n",
        "print('Best GridSearchCV training accuracy: %.3f' % clf_xgb_optimized.best_score_)"
      ],
      "execution_count": 0,
      "outputs": [
        {
          "output_type": "stream",
          "text": [
            "Best params: {'max_depth': 7, 'min_child_weight': 1}\n",
            "Best GridSearchCV training accuracy: 0.700\n"
          ],
          "name": "stdout"
        }
      ]
    },
    {
      "cell_type": "code",
      "metadata": {
        "colab_type": "code",
        "id": "Yzr-W7PyGMjZ",
        "colab": {}
      },
      "source": [
        "# Train model on full training split w/ best params determined by GridSearchCV \n",
        "clf_xgb = XGBClassifier(max_depth= 7, min_child_weight = 1)\n",
        "clf_xgb_optimized = clf_xgb.fit(X_train, y_train)\n",
        "# Make predictions w/ best params\n",
        "y_pred = clf_xgb_optimized.predict(X_test)"
      ],
      "execution_count": 0,
      "outputs": []
    },
    {
      "cell_type": "code",
      "metadata": {
        "colab_type": "code",
        "outputId": "0c1c7f51-6af1-40d7-f7d3-8bdcab58f5c4",
        "id": "a0faVc3mGMjb",
        "colab": {
          "base_uri": "https://localhost:8080/",
          "height": 34
        }
      },
      "source": [
        "from sklearn.metrics import accuracy_score\n",
        "# Test data accuracy of model with best params\n",
        "print('Test set accuracy score for XGBoost Classifier w/ best params: %.3f ' % accuracy_score(y_test, y_pred))"
      ],
      "execution_count": 0,
      "outputs": [
        {
          "output_type": "stream",
          "text": [
            "Test set accuracy score for XGBoost Classifier w/ best params: 0.702 \n"
          ],
          "name": "stdout"
        }
      ]
    },
    {
      "cell_type": "markdown",
      "metadata": {
        "id": "S86zvzYvUvA1",
        "colab_type": "text"
      },
      "source": [
        "# 7.) Optimized Model Comparison:\n",
        "\n"
      ]
    },
    {
      "cell_type": "markdown",
      "metadata": {
        "id": "pqbLxHKmcnUB",
        "colab_type": "text"
      },
      "source": [
        "GridSearchCV enabled us to modestly improve the accuracy of all three of our supervised learning algorithms by optimizing some of the hyperparameters.\n",
        "* Logistic Regression: 0.73255 -> 0.736\n",
        "* KNN: 0.65585 -> 0.661\n",
        "* XGBoost: 0.6686 -> 0.702\n",
        "\n",
        "While these aren't massive improvements, I didn't expect sweeping change since I only explored a couple of hyperparameters and for relatively few values due to computational limitations.  A more in-depth optimization of each hyperparameter could potentially yield more impressive gains.  Still, this illustrates the value of hyperparameter optimization, and gives us our top-performing model - Logistic Regression!"
      ]
    },
    {
      "cell_type": "markdown",
      "metadata": {
        "id": "Wh96aQQB2wwK",
        "colab_type": "text"
      },
      "source": [
        "# 8.) Comparison with Binarized Reviews"
      ]
    },
    {
      "cell_type": "markdown",
      "metadata": {
        "colab_type": "text",
        "id": "JKMRUBF5zxWN"
      },
      "source": [
        "Previously, we used the feature 'Score' with all 5 classes (1 to 5 stars) for our classification tasks. To compare performance, let's turn this into a binary classification task.  \n",
        "\n",
        "Recall that earlier we found our target variable, 'Score', contains interval data and ranges from 1 to 5 in whole number increments.  Also, there was a clear upward skew to the 'Score' data, with ~64% of responses indicating a 5 star rating. Binarizing the data will hopefully improve our accuracy by addressing some of the issues stemming from the aforementioned class imbalance, both from collapsing under-represented classes as well as by utilizing binary classifiers that are more robust to class imbalance. \n",
        "\n",
        "Let's engineer a new feature, Score_Polarity, where we assign scores of 4 and 5 as a positive score (1) and scores of 1 or 2 as a negative score (0).  The positive or negative scores from Score_Polarity will be used with positive or negative sentiment in our models later.  Note that Score of 3, which is more neutral, is less interesting from a sentiment perspective, so we will drop these values. "
      ]
    },
    {
      "cell_type": "code",
      "metadata": {
        "colab_type": "code",
        "id": "_rVVGoFNX0ox",
        "outputId": "750c6bad-4b0b-4b8c-aafc-cdb3c5d427f9",
        "colab": {
          "base_uri": "https://localhost:8080/",
          "height": 281
        }
      },
      "source": [
        "# re-load original DF\n",
        "affr_df_2 = pd.read_csv('Reviews.csv')\n",
        "affr_df_2.head()\n",
        "\n",
        "# Drop NA rows \n",
        "affr_df_2 = affr_df_2.dropna(axis = 0, how ='any')\n",
        "\n",
        "# Drop non-feature columns\n",
        "affr_df_2.drop(['Id', 'ProductId', 'UserId', 'ProfileName'], axis=1, inplace=True)\n",
        "affr_df_2.head()\n",
        "\n",
        "# subsample 100k reviews\n",
        "affr_df_2_sample = affr_df.sample(n = 100000, random_state=42) # subsample 100k reviews; use these to train models\n",
        "affr_df_2_sample.head()"
      ],
      "execution_count": 0,
      "outputs": [
        {
          "output_type": "execute_result",
          "data": {
            "text/html": [
              "<div>\n",
              "<style scoped>\n",
              "    .dataframe tbody tr th:only-of-type {\n",
              "        vertical-align: middle;\n",
              "    }\n",
              "\n",
              "    .dataframe tbody tr th {\n",
              "        vertical-align: top;\n",
              "    }\n",
              "\n",
              "    .dataframe thead th {\n",
              "        text-align: right;\n",
              "    }\n",
              "</style>\n",
              "<table border=\"1\" class=\"dataframe\">\n",
              "  <thead>\n",
              "    <tr style=\"text-align: right;\">\n",
              "      <th></th>\n",
              "      <th>Id</th>\n",
              "      <th>ProductId</th>\n",
              "      <th>UserId</th>\n",
              "      <th>ProfileName</th>\n",
              "      <th>HelpfulnessNumerator</th>\n",
              "      <th>HelpfulnessDenominator</th>\n",
              "      <th>Score</th>\n",
              "      <th>Time</th>\n",
              "      <th>Summary</th>\n",
              "      <th>Text</th>\n",
              "    </tr>\n",
              "  </thead>\n",
              "  <tbody>\n",
              "    <tr>\n",
              "      <th>165256</th>\n",
              "      <td>165257</td>\n",
              "      <td>B000EVG8J2</td>\n",
              "      <td>A1L01D2BD3RKVO</td>\n",
              "      <td>B. Miller \"pet person\"</td>\n",
              "      <td>0</td>\n",
              "      <td>0</td>\n",
              "      <td>5</td>\n",
              "      <td>1268179200</td>\n",
              "      <td>Crunchy &amp; Good Gluten-Free Sandwich Cookies!</td>\n",
              "      <td>Having tried a couple of other brands of glute...</td>\n",
              "    </tr>\n",
              "    <tr>\n",
              "      <th>231465</th>\n",
              "      <td>231466</td>\n",
              "      <td>B0000BXJIS</td>\n",
              "      <td>A3U62RE5XZDP0G</td>\n",
              "      <td>Marty</td>\n",
              "      <td>0</td>\n",
              "      <td>0</td>\n",
              "      <td>5</td>\n",
              "      <td>1298937600</td>\n",
              "      <td>great kitty treats</td>\n",
              "      <td>My cat loves these treats. If ever I can't fin...</td>\n",
              "    </tr>\n",
              "    <tr>\n",
              "      <th>427827</th>\n",
              "      <td>427828</td>\n",
              "      <td>B008FHUFAU</td>\n",
              "      <td>AOXC0JQQZGGB6</td>\n",
              "      <td>Kenneth Shevlin</td>\n",
              "      <td>0</td>\n",
              "      <td>2</td>\n",
              "      <td>3</td>\n",
              "      <td>1224028800</td>\n",
              "      <td>COFFEE TASTE</td>\n",
              "      <td>A little less than I expected.  It tends to ha...</td>\n",
              "    </tr>\n",
              "    <tr>\n",
              "      <th>433954</th>\n",
              "      <td>433955</td>\n",
              "      <td>B006BXV14E</td>\n",
              "      <td>A3PWPNZVMNX3PA</td>\n",
              "      <td>rareoopdvds</td>\n",
              "      <td>0</td>\n",
              "      <td>1</td>\n",
              "      <td>2</td>\n",
              "      <td>1335312000</td>\n",
              "      <td>So the Mini-Wheats were too big?</td>\n",
              "      <td>First there was Frosted Mini-Wheats, in origin...</td>\n",
              "    </tr>\n",
              "    <tr>\n",
              "      <th>70260</th>\n",
              "      <td>70261</td>\n",
              "      <td>B007I7Z3Z0</td>\n",
              "      <td>A1XNZ7PCE45KK7</td>\n",
              "      <td>Og8ys1</td>\n",
              "      <td>0</td>\n",
              "      <td>2</td>\n",
              "      <td>5</td>\n",
              "      <td>1334707200</td>\n",
              "      <td>Great Taste . . .</td>\n",
              "      <td>and I want to congratulate the graphic artist ...</td>\n",
              "    </tr>\n",
              "  </tbody>\n",
              "</table>\n",
              "</div>"
            ],
            "text/plain": [
              "            Id  ...                                               Text\n",
              "165256  165257  ...  Having tried a couple of other brands of glute...\n",
              "231465  231466  ...  My cat loves these treats. If ever I can't fin...\n",
              "427827  427828  ...  A little less than I expected.  It tends to ha...\n",
              "433954  433955  ...  First there was Frosted Mini-Wheats, in origin...\n",
              "70260    70261  ...  and I want to congratulate the graphic artist ...\n",
              "\n",
              "[5 rows x 10 columns]"
            ]
          },
          "metadata": {
            "tags": []
          },
          "execution_count": 15
        }
      ]
    },
    {
      "cell_type": "code",
      "metadata": {
        "id": "ujr_xAD5SyuR",
        "colab_type": "code",
        "outputId": "aa030c50-b70d-4214-ff89-af9a3c610656",
        "colab": {
          "base_uri": "https://localhost:8080/",
          "height": 281
        }
      },
      "source": [
        "# create new feature 'ScorePolarity'\n",
        "affr_df_2_sample['ScorePolarity'] = affr_df_2_sample['Score'].apply(lambda Score: 1 if Score > 3 else 0)\n",
        "affr_df_2_sample.head()"
      ],
      "execution_count": 0,
      "outputs": [
        {
          "output_type": "execute_result",
          "data": {
            "text/html": [
              "<div>\n",
              "<style scoped>\n",
              "    .dataframe tbody tr th:only-of-type {\n",
              "        vertical-align: middle;\n",
              "    }\n",
              "\n",
              "    .dataframe tbody tr th {\n",
              "        vertical-align: top;\n",
              "    }\n",
              "\n",
              "    .dataframe thead th {\n",
              "        text-align: right;\n",
              "    }\n",
              "</style>\n",
              "<table border=\"1\" class=\"dataframe\">\n",
              "  <thead>\n",
              "    <tr style=\"text-align: right;\">\n",
              "      <th></th>\n",
              "      <th>Id</th>\n",
              "      <th>ProductId</th>\n",
              "      <th>UserId</th>\n",
              "      <th>ProfileName</th>\n",
              "      <th>HelpfulnessNumerator</th>\n",
              "      <th>HelpfulnessDenominator</th>\n",
              "      <th>Score</th>\n",
              "      <th>Time</th>\n",
              "      <th>Summary</th>\n",
              "      <th>Text</th>\n",
              "      <th>ScorePolarity</th>\n",
              "    </tr>\n",
              "  </thead>\n",
              "  <tbody>\n",
              "    <tr>\n",
              "      <th>165256</th>\n",
              "      <td>165257</td>\n",
              "      <td>B000EVG8J2</td>\n",
              "      <td>A1L01D2BD3RKVO</td>\n",
              "      <td>B. Miller \"pet person\"</td>\n",
              "      <td>0</td>\n",
              "      <td>0</td>\n",
              "      <td>5</td>\n",
              "      <td>1268179200</td>\n",
              "      <td>Crunchy &amp; Good Gluten-Free Sandwich Cookies!</td>\n",
              "      <td>Having tried a couple of other brands of glute...</td>\n",
              "      <td>1</td>\n",
              "    </tr>\n",
              "    <tr>\n",
              "      <th>231465</th>\n",
              "      <td>231466</td>\n",
              "      <td>B0000BXJIS</td>\n",
              "      <td>A3U62RE5XZDP0G</td>\n",
              "      <td>Marty</td>\n",
              "      <td>0</td>\n",
              "      <td>0</td>\n",
              "      <td>5</td>\n",
              "      <td>1298937600</td>\n",
              "      <td>great kitty treats</td>\n",
              "      <td>My cat loves these treats. If ever I can't fin...</td>\n",
              "      <td>1</td>\n",
              "    </tr>\n",
              "    <tr>\n",
              "      <th>427827</th>\n",
              "      <td>427828</td>\n",
              "      <td>B008FHUFAU</td>\n",
              "      <td>AOXC0JQQZGGB6</td>\n",
              "      <td>Kenneth Shevlin</td>\n",
              "      <td>0</td>\n",
              "      <td>2</td>\n",
              "      <td>3</td>\n",
              "      <td>1224028800</td>\n",
              "      <td>COFFEE TASTE</td>\n",
              "      <td>A little less than I expected.  It tends to ha...</td>\n",
              "      <td>0</td>\n",
              "    </tr>\n",
              "    <tr>\n",
              "      <th>433954</th>\n",
              "      <td>433955</td>\n",
              "      <td>B006BXV14E</td>\n",
              "      <td>A3PWPNZVMNX3PA</td>\n",
              "      <td>rareoopdvds</td>\n",
              "      <td>0</td>\n",
              "      <td>1</td>\n",
              "      <td>2</td>\n",
              "      <td>1335312000</td>\n",
              "      <td>So the Mini-Wheats were too big?</td>\n",
              "      <td>First there was Frosted Mini-Wheats, in origin...</td>\n",
              "      <td>0</td>\n",
              "    </tr>\n",
              "    <tr>\n",
              "      <th>70260</th>\n",
              "      <td>70261</td>\n",
              "      <td>B007I7Z3Z0</td>\n",
              "      <td>A1XNZ7PCE45KK7</td>\n",
              "      <td>Og8ys1</td>\n",
              "      <td>0</td>\n",
              "      <td>2</td>\n",
              "      <td>5</td>\n",
              "      <td>1334707200</td>\n",
              "      <td>Great Taste . . .</td>\n",
              "      <td>and I want to congratulate the graphic artist ...</td>\n",
              "      <td>1</td>\n",
              "    </tr>\n",
              "  </tbody>\n",
              "</table>\n",
              "</div>"
            ],
            "text/plain": [
              "            Id  ... ScorePolarity\n",
              "165256  165257  ...             1\n",
              "231465  231466  ...             1\n",
              "427827  427828  ...             0\n",
              "433954  433955  ...             0\n",
              "70260    70261  ...             1\n",
              "\n",
              "[5 rows x 11 columns]"
            ]
          },
          "metadata": {
            "tags": []
          },
          "execution_count": 16
        }
      ]
    },
    {
      "cell_type": "code",
      "metadata": {
        "id": "Y3sD_kWFS-mX",
        "colab_type": "code",
        "outputId": "1e870759-ad8a-4eca-940e-8d291eec4796",
        "colab": {
          "base_uri": "https://localhost:8080/",
          "height": 69
        }
      },
      "source": [
        "affr_df_2_sample.ScorePolarity.value_counts()"
      ],
      "execution_count": 0,
      "outputs": [
        {
          "output_type": "execute_result",
          "data": {
            "text/plain": [
              "1    78263\n",
              "0    21737\n",
              "Name: ScorePolarity, dtype: int64"
            ]
          },
          "metadata": {
            "tags": []
          },
          "execution_count": 17
        }
      ]
    },
    {
      "cell_type": "markdown",
      "metadata": {
        "id": "jsgntDTEUOyc",
        "colab_type": "text"
      },
      "source": [
        "I now have a binary feature to do classification on.  It seems to be fairly imbalanced (78% to 21%) - expected, given the imbalanced distribution of our full five class data.  "
      ]
    },
    {
      "cell_type": "code",
      "metadata": {
        "id": "FO2FGZHnTTPk",
        "colab_type": "code",
        "colab": {}
      },
      "source": [
        "# Run TFIDF on the 'Text' column to extract 1-gram features\n",
        "from sklearn.feature_extraction.text import TfidfVectorizer\n",
        "\n",
        "X_text = affr_df_2_sample['Text'].values # using .values instead of to_numpy because my pandas version won't update\n",
        "vectorizer = TfidfVectorizer()\n",
        "X_text_processed = vectorizer.fit_transform(X_text)"
      ],
      "execution_count": 0,
      "outputs": []
    },
    {
      "cell_type": "code",
      "metadata": {
        "id": "0lVIjrk4WarT",
        "colab_type": "code",
        "colab": {}
      },
      "source": [
        "# set 'ScorePolarity' as our new target variable\n",
        "y = affr_df_2_sample['ScorePolarity'].values"
      ],
      "execution_count": 0,
      "outputs": []
    },
    {
      "cell_type": "code",
      "metadata": {
        "id": "8b963W3WWnU0",
        "colab_type": "code",
        "colab": {}
      },
      "source": [
        "# split data into training and testing sets\n",
        "from sklearn.model_selection import train_test_split\n",
        "X_train, X_test, y_train, y_test = train_test_split(X_text_processed, y, test_size=0.2, random_state=42)"
      ],
      "execution_count": 0,
      "outputs": []
    },
    {
      "cell_type": "markdown",
      "metadata": {
        "id": "Ai656gqtXNUp",
        "colab_type": "text"
      },
      "source": [
        "Let's run GridSearchCV, as before, but on the binarized data.  Let's pit our two top performers against each other again, and compare outcomes."
      ]
    },
    {
      "cell_type": "markdown",
      "metadata": {
        "colab_type": "text",
        "id": "dhuVspVYXyfZ"
      },
      "source": [
        "## Logistic Regression GridSearchCV - Binary Data"
      ]
    },
    {
      "cell_type": "code",
      "metadata": {
        "colab_type": "code",
        "id": "ixXI4fgxXyfd",
        "colab": {}
      },
      "source": [
        "from sklearn.model_selection import GridSearchCV\n",
        "from sklearn.linear_model import LogisticRegression\n",
        "\n",
        "lr_cv_params = {\"C\": np.logspace(-1,1,3,10), \"max_iter\": [1000, 3000, 5000]}\n",
        "clf_lr = LogisticRegression()\n",
        "clf_lr_optimized = GridSearchCV(clf_lr, lr_cv_params, cv=5)"
      ],
      "execution_count": 0,
      "outputs": []
    },
    {
      "cell_type": "code",
      "metadata": {
        "colab_type": "code",
        "outputId": "379c40f9-1f86-4747-b254-b3f5bfe66e45",
        "id": "iOS-nTSQXyfg",
        "colab": {
          "base_uri": "https://localhost:8080/",
          "height": 262
        }
      },
      "source": [
        "clf_lr_optimized.fit(X_train, y_train)"
      ],
      "execution_count": 0,
      "outputs": [
        {
          "output_type": "execute_result",
          "data": {
            "text/plain": [
              "GridSearchCV(cv=5, error_score=nan,\n",
              "             estimator=LogisticRegression(C=1.0, class_weight=None, dual=False,\n",
              "                                          fit_intercept=True,\n",
              "                                          intercept_scaling=1, l1_ratio=None,\n",
              "                                          max_iter=100, multi_class='auto',\n",
              "                                          n_jobs=None, penalty='l2',\n",
              "                                          random_state=None, solver='lbfgs',\n",
              "                                          tol=0.0001, verbose=0,\n",
              "                                          warm_start=False),\n",
              "             iid='deprecated', n_jobs=None,\n",
              "             param_grid={'C': array([ 0.1,  1. , 10. ]),\n",
              "                         'max_iter': [1000, 3000, 5000]},\n",
              "             pre_dispatch='2*n_jobs', refit=True, return_train_score=False,\n",
              "             scoring=None, verbose=0)"
            ]
          },
          "metadata": {
            "tags": []
          },
          "execution_count": 28
        }
      ]
    },
    {
      "cell_type": "code",
      "metadata": {
        "colab_type": "code",
        "outputId": "3730e623-79b1-441f-bf27-6a73e695cefd",
        "id": "VUqOWnk7Xyfk",
        "colab": {
          "base_uri": "https://localhost:8080/",
          "height": 404
        }
      },
      "source": [
        "# Check per-grid model 'accuracy'\n",
        "print(\"Accuracy for Logistic Regression Classifier Grids: {}\".format(clf_lr_optimized.cv_results_))"
      ],
      "execution_count": 0,
      "outputs": [
        {
          "output_type": "stream",
          "text": [
            "Accuracy for Logistic Regression Classifier Grids: {'mean_fit_time': array([ 2.38571658,  2.40639124,  2.43884525,  6.21155086,  6.19981084,\n",
            "        6.15318441, 14.33851509, 14.27001939, 14.55306249]), 'std_fit_time': array([0.11850293, 0.10763562, 0.1338853 , 0.39131626, 0.39770302,\n",
            "       0.34294811, 0.51634412, 0.51686584, 0.50309691]), 'mean_score_time': array([0.00629663, 0.00624018, 0.00627956, 0.00614305, 0.0062799 ,\n",
            "       0.00603008, 0.00603671, 0.00596552, 0.00640569]), 'std_score_time': array([4.54966473e-04, 1.66882542e-04, 3.42231234e-04, 1.82795349e-04,\n",
            "       2.40272344e-04, 9.45630723e-05, 2.01643119e-04, 1.69154674e-04,\n",
            "       2.61638798e-04]), 'param_C': masked_array(data=[0.1, 0.1, 0.1, 1.0, 1.0, 1.0, 10.0, 10.0, 10.0],\n",
            "             mask=[False, False, False, False, False, False, False, False,\n",
            "                   False],\n",
            "       fill_value='?',\n",
            "            dtype=object), 'param_max_iter': masked_array(data=[1000, 3000, 5000, 1000, 3000, 5000, 1000, 3000, 5000],\n",
            "             mask=[False, False, False, False, False, False, False, False,\n",
            "                   False],\n",
            "       fill_value='?',\n",
            "            dtype=object), 'params': [{'C': 0.1, 'max_iter': 1000}, {'C': 0.1, 'max_iter': 3000}, {'C': 0.1, 'max_iter': 5000}, {'C': 1.0, 'max_iter': 1000}, {'C': 1.0, 'max_iter': 3000}, {'C': 1.0, 'max_iter': 5000}, {'C': 10.0, 'max_iter': 1000}, {'C': 10.0, 'max_iter': 3000}, {'C': 10.0, 'max_iter': 5000}], 'split0_test_score': array([0.8439375, 0.8439375, 0.8439375, 0.885375 , 0.885375 , 0.885375 ,\n",
            "       0.891875 , 0.891875 , 0.891875 ]), 'split1_test_score': array([0.8429375, 0.8429375, 0.8429375, 0.8856875, 0.8856875, 0.8856875,\n",
            "       0.8908125, 0.8908125, 0.8908125]), 'split2_test_score': array([0.8433125, 0.8433125, 0.8433125, 0.8898125, 0.8898125, 0.8898125,\n",
            "       0.895375 , 0.895375 , 0.895375 ]), 'split3_test_score': array([0.8424375, 0.8424375, 0.8424375, 0.8878125, 0.8878125, 0.8878125,\n",
            "       0.8940625, 0.8940625, 0.8940625]), 'split4_test_score': array([0.8449375, 0.8449375, 0.8449375, 0.8866875, 0.8866875, 0.8866875,\n",
            "       0.8935   , 0.8935   , 0.8935   ]), 'mean_test_score': array([0.8435125, 0.8435125, 0.8435125, 0.887075 , 0.887075 , 0.887075 ,\n",
            "       0.893125 , 0.893125 , 0.893125 ]), 'std_test_score': array([0.00086458, 0.00086458, 0.00086458, 0.00161265, 0.00161265,\n",
            "       0.00161265, 0.00161197, 0.00161197, 0.00161197]), 'rank_test_score': array([7, 7, 7, 4, 4, 4, 1, 1, 1], dtype=int32)}\n"
          ],
          "name": "stdout"
        }
      ]
    },
    {
      "cell_type": "code",
      "metadata": {
        "colab_type": "code",
        "outputId": "ffbdfa3a-e8eb-4324-b72e-9012b51dc22c",
        "id": "JnNG4LvqXyfm",
        "colab": {
          "base_uri": "https://localhost:8080/",
          "height": 52
        }
      },
      "source": [
        "# Print parameters for best-performing grid\n",
        "print('Best params: %s' % clf_lr_optimized.best_params_)\n",
        "# Best training data accuracy\n",
        "print('Best GridSearchCV training accuracy: %.3f' % clf_lr_optimized.best_score_)"
      ],
      "execution_count": 0,
      "outputs": [
        {
          "output_type": "stream",
          "text": [
            "Best params: {'C': 10.0, 'max_iter': 1000}\n",
            "Best GridSearchCV training accuracy: 0.893\n"
          ],
          "name": "stdout"
        }
      ]
    },
    {
      "cell_type": "code",
      "metadata": {
        "colab_type": "code",
        "id": "KRHmEHoyXyfq",
        "colab": {}
      },
      "source": [
        "# Train model on full training split w/ best params determined by GridSearchCV \n",
        "from sklearn.linear_model import LogisticRegression\n",
        "\n",
        "clf_lr = LogisticRegression(C=10, max_iter=1000)\n",
        "clf_lr_optimized_final = clf_lr.fit(X_train, y_train)\n",
        "# Make predictions w/ best params\n",
        "y_pred = clf_lr_optimized_final.predict(X_test)"
      ],
      "execution_count": 0,
      "outputs": []
    },
    {
      "cell_type": "code",
      "metadata": {
        "colab_type": "code",
        "outputId": "52bf8d89-6f47-4f9d-9292-b99afd1f01f5",
        "id": "R9dvpsVtXyfu",
        "colab": {
          "base_uri": "https://localhost:8080/",
          "height": 34
        }
      },
      "source": [
        "from sklearn.metrics import accuracy_score\n",
        "# Test data accuracy of model with best params\n",
        "print('Test set accuracy score for Logistic Regression Classifier w/ best params: %.3f ' % accuracy_score(y_test, y_pred))"
      ],
      "execution_count": 0,
      "outputs": [
        {
          "output_type": "stream",
          "text": [
            "Test set accuracy score for Logistic Regression Classifier w/ best params: 0.897 \n"
          ],
          "name": "stdout"
        }
      ]
    },
    {
      "cell_type": "code",
      "metadata": {
        "colab_type": "code",
        "outputId": "83d8234f-358b-44ef-e5b0-9c3ee4de53de",
        "id": "DnQvbRfGXyfw",
        "colab": {
          "base_uri": "https://localhost:8080/",
          "height": 174
        }
      },
      "source": [
        "# Set up classification report and confusion matrix\n",
        "from sklearn import metrics\n",
        "from sklearn.metrics import confusion_matrix\n",
        "print(metrics.classification_report(y_test, y_pred, target_names = ['0', '1']))\n",
        "clf_xgb_cnf = confusion_matrix(y_test, y_pred)"
      ],
      "execution_count": 0,
      "outputs": [
        {
          "output_type": "stream",
          "text": [
            "              precision    recall  f1-score   support\n",
            "\n",
            "           0       0.80      0.70      0.74      4294\n",
            "           1       0.92      0.95      0.94     15706\n",
            "\n",
            "    accuracy                           0.90     20000\n",
            "   macro avg       0.86      0.82      0.84     20000\n",
            "weighted avg       0.89      0.90      0.89     20000\n",
            "\n"
          ],
          "name": "stdout"
        }
      ]
    },
    {
      "cell_type": "code",
      "metadata": {
        "colab_type": "code",
        "outputId": "4367d116-fb34-46d0-8276-0f9d3803abe0",
        "id": "M8AgQiNsXyfy",
        "colab": {
          "base_uri": "https://localhost:8080/",
          "height": 678
        }
      },
      "source": [
        "# plot confusion matrix without and with normalization\n",
        "from sklearn.metrics import plot_confusion_matrix\n",
        "\n",
        "class_names = ['0', '1']\n",
        "titles_options = [(\"Confusion matrix, without normalization\", None),\n",
        "                  (\"Normalized confusion matrix\", 'true')]\n",
        "for title, normalize in titles_options:\n",
        "    disp = plot_confusion_matrix(clf_lr_optimized_final, X_test, y_test,\n",
        "                                 display_labels=class_names,\n",
        "                                 cmap=plt.cm.Blues,\n",
        "                                 normalize=normalize)\n",
        "    disp.ax_.set_title(title)\n",
        "\n",
        "    print(title)\n",
        "    print(disp.confusion_matrix)\n",
        "\n",
        "plt.show()"
      ],
      "execution_count": 0,
      "outputs": [
        {
          "output_type": "stream",
          "text": [
            "Confusion matrix, without normalization\n",
            "[[ 2989  1305]\n",
            " [  756 14950]]\n",
            "Normalized confusion matrix\n",
            "[[0.69608756 0.30391244]\n",
            " [0.04813447 0.95186553]]\n"
          ],
          "name": "stdout"
        },
        {
          "output_type": "display_data",
          "data": {
            "image/png": "[encoded data removed]",
            "text/plain": [
              "<Figure size 432x288 with 2 Axes>"
            ]
          },
          "metadata": {
            "tags": []
          }
        },
        {
          "output_type": "display_data",
          "data": {
            "image/png": "[encoded data removed]",
            "text/plain": [
              "<Figure size 432x288 with 2 Axes>"
            ]
          },
          "metadata": {
            "tags": []
          }
        }
      ]
    },
    {
      "cell_type": "markdown",
      "metadata": {
        "id": "5CPNznY2es6P",
        "colab_type": "text"
      },
      "source": [
        "Logistic Regression does a pretty good job on the binary dataset.  With 89.7% accuracy, this is a pretty big overall improvement.  \n",
        "\n",
        "Based on the confusion matrix, it looks like our classifier is doing a better job of classifying positive reviews ('1').  This makes sense, given that this is the dominant class.  Additionally, our minority class actually consists of three separate review bins (1/2/3 stars).  This diverse class may have verbiage that is harder to assign.  Also, there is likely a fair bit of overlap between verbiage used in the 3-star bin and the 4- and 5-star bins, given that 3 stars is somewhat neutral.  "
      ]
    },
    {
      "cell_type": "markdown",
      "metadata": {
        "colab_type": "text",
        "id": "7b4M887cYttM"
      },
      "source": [
        "## XGBoost GridSearchCV - Binary Data"
      ]
    },
    {
      "cell_type": "code",
      "metadata": {
        "colab_type": "code",
        "id": "7X4DzPfaYttR",
        "colab": {}
      },
      "source": [
        "from sklearn.model_selection import GridSearchCV\n",
        "from xgboost import XGBClassifier\n",
        "\n",
        "xgb_cv_params = {'max_depth': [1,3,5], 'min_child_weight': [1,3], \n",
        "                 'learning_rate': [0.01, 0.1]}\n",
        "                 \n",
        "xgb_ind_params = {'n_estimators': 100, 'seed':0, 'subsample': 0.6, \n",
        "                  'colsample_bytree': 0.6, 'objective': 'binary:logistic'}\n",
        "\n",
        "clf_xgb_optimized = GridSearchCV(XGBClassifier(**xgb_ind_params),\n",
        "                            xgb_cv_params, \n",
        "                            scoring = 'accuracy', cv = 5, n_jobs = -1)"
      ],
      "execution_count": 0,
      "outputs": []
    },
    {
      "cell_type": "code",
      "metadata": {
        "colab_type": "code",
        "outputId": "34e0a94d-cec5-4217-cae1-0b7b2de30459",
        "id": "H5C7etnuYttV",
        "colab": {
          "base_uri": "https://localhost:8080/",
          "height": 297
        }
      },
      "source": [
        "clf_xgb_optimized.fit(X_train, y_train)"
      ],
      "execution_count": 0,
      "outputs": [
        {
          "output_type": "execute_result",
          "data": {
            "text/plain": [
              "GridSearchCV(cv=5, error_score=nan,\n",
              "             estimator=XGBClassifier(base_score=0.5, booster='gbtree',\n",
              "                                     colsample_bylevel=1, colsample_bynode=1,\n",
              "                                     colsample_bytree=0.6, gamma=0,\n",
              "                                     learning_rate=0.1, max_delta_step=0,\n",
              "                                     max_depth=3, min_child_weight=1,\n",
              "                                     missing=None, n_estimators=100, n_jobs=1,\n",
              "                                     nthread=None, objective='binary:logistic',\n",
              "                                     random_state=0, reg_alpha=0, reg_lambda=1,\n",
              "                                     scale_pos_weight=1, seed=0, silent=None,\n",
              "                                     subsample=0.6, verbosity=1),\n",
              "             iid='deprecated', n_jobs=-1,\n",
              "             param_grid={'learning_rate': [0.01, 0.1], 'max_depth': [1, 3, 5],\n",
              "                         'min_child_weight': [1, 3]},\n",
              "             pre_dispatch='2*n_jobs', refit=True, return_train_score=False,\n",
              "             scoring='accuracy', verbose=0)"
            ]
          },
          "metadata": {
            "tags": []
          },
          "execution_count": 22
        }
      ]
    },
    {
      "cell_type": "code",
      "metadata": {
        "scrolled": true,
        "colab_type": "code",
        "outputId": "00dcf817-180b-4b00-fd93-d9902a6ed735",
        "id": "XwDWSxYBYttY",
        "colab": {
          "base_uri": "https://localhost:8080/",
          "height": 562
        }
      },
      "source": [
        "# Check per-grid model results\n",
        "print(\"Accuracy for XGBoost Classifier Grids: {}\".format(clf_xgb_optimized.cv_results_))"
      ],
      "execution_count": 0,
      "outputs": [
        {
          "output_type": "stream",
          "text": [
            "Accuracy for XGBoost Classifier Grids: {'mean_fit_time': array([22.41421118, 21.48103647, 52.06672711, 50.93543296, 83.01315703,\n",
            "       81.48893318, 21.50692725, 21.16645708, 51.55001869, 50.71207733,\n",
            "       82.71785655, 73.54850979]), 'std_fit_time': array([0.46157971, 0.07045396, 0.16176721, 0.08004715, 0.36711232,\n",
            "       0.3136601 , 0.13652916, 0.10138283, 0.11972806, 0.20918083,\n",
            "       0.26183863, 8.66337801]), 'mean_score_time': array([0.63294291, 0.62127924, 0.63647599, 0.67723927, 0.70249238,\n",
            "       0.70784535, 0.66754808, 0.65928288, 0.66774735, 0.66031647,\n",
            "       0.69835486, 0.59521523]), 'std_score_time': array([0.03597214, 0.00811984, 0.01542404, 0.03633786, 0.04938391,\n",
            "       0.05191236, 0.06379423, 0.07075544, 0.0548908 , 0.03496684,\n",
            "       0.04950505, 0.20249793]), 'param_learning_rate': masked_array(data=[0.01, 0.01, 0.01, 0.01, 0.01, 0.01, 0.1, 0.1, 0.1, 0.1,\n",
            "                   0.1, 0.1],\n",
            "             mask=[False, False, False, False, False, False, False, False,\n",
            "                   False, False, False, False],\n",
            "       fill_value='?',\n",
            "            dtype=object), 'param_max_depth': masked_array(data=[1, 1, 3, 3, 5, 5, 1, 1, 3, 3, 5, 5],\n",
            "             mask=[False, False, False, False, False, False, False, False,\n",
            "                   False, False, False, False],\n",
            "       fill_value='?',\n",
            "            dtype=object), 'param_min_child_weight': masked_array(data=[1, 3, 1, 3, 1, 3, 1, 3, 1, 3, 1, 3],\n",
            "             mask=[False, False, False, False, False, False, False, False,\n",
            "                   False, False, False, False],\n",
            "       fill_value='?',\n",
            "            dtype=object), 'params': [{'learning_rate': 0.01, 'max_depth': 1, 'min_child_weight': 1}, {'learning_rate': 0.01, 'max_depth': 1, 'min_child_weight': 3}, {'learning_rate': 0.01, 'max_depth': 3, 'min_child_weight': 1}, {'learning_rate': 0.01, 'max_depth': 3, 'min_child_weight': 3}, {'learning_rate': 0.01, 'max_depth': 5, 'min_child_weight': 1}, {'learning_rate': 0.01, 'max_depth': 5, 'min_child_weight': 3}, {'learning_rate': 0.1, 'max_depth': 1, 'min_child_weight': 1}, {'learning_rate': 0.1, 'max_depth': 1, 'min_child_weight': 3}, {'learning_rate': 0.1, 'max_depth': 3, 'min_child_weight': 1}, {'learning_rate': 0.1, 'max_depth': 3, 'min_child_weight': 3}, {'learning_rate': 0.1, 'max_depth': 5, 'min_child_weight': 1}, {'learning_rate': 0.1, 'max_depth': 5, 'min_child_weight': 3}], 'split0_test_score': array([0.7835625, 0.7835625, 0.78675  , 0.7868125, 0.795375 , 0.7955   ,\n",
            "       0.7935   , 0.7935   , 0.828625 , 0.8291875, 0.8439375, 0.8441875]), 'split1_test_score': array([0.7835625, 0.7835625, 0.7875   , 0.787625 , 0.7931875, 0.79275  ,\n",
            "       0.79425  , 0.79425  , 0.8263125, 0.8268125, 0.84625  , 0.8444375]), 'split2_test_score': array([0.7835625, 0.7835625, 0.786125 , 0.786125 , 0.79425  , 0.7941875,\n",
            "       0.79625  , 0.79625  , 0.8325   , 0.831375 , 0.850625 , 0.84975  ]), 'split3_test_score': array([0.7835625, 0.7835625, 0.7866875, 0.7866875, 0.7935   , 0.794125 ,\n",
            "       0.794125 , 0.794125 , 0.8275625, 0.8274375, 0.846875 , 0.8431875]), 'split4_test_score': array([0.7835625, 0.7835625, 0.7861875, 0.7863125, 0.7949375, 0.79475  ,\n",
            "       0.7945   , 0.7945   , 0.8285   , 0.82925  , 0.8465   , 0.8460625]), 'mean_test_score': array([0.7835625, 0.7835625, 0.78665  , 0.7867125, 0.79425  , 0.7942625,\n",
            "       0.794525 , 0.794525 , 0.8287   , 0.8288125, 0.8468375, 0.845525 ]), 'std_test_score': array([0.        , 0.        , 0.00049466, 0.00051931, 0.00082821,\n",
            "       0.00090347, 0.00092331, 0.00092331, 0.00207266, 0.00159932,\n",
            "       0.00215479, 0.00230543]), 'rank_test_score': array([11, 11, 10,  9,  8,  7,  5,  5,  4,  3,  1,  2], dtype=int32)}\n"
          ],
          "name": "stdout"
        }
      ]
    },
    {
      "cell_type": "code",
      "metadata": {
        "colab_type": "code",
        "outputId": "1d8ea3ca-d344-4ca0-fdd2-8fe9c4d9aaea",
        "id": "Gck38OteYttb",
        "colab": {
          "base_uri": "https://localhost:8080/",
          "height": 52
        }
      },
      "source": [
        "# Print parameters for best-performing grid\n",
        "print('Best params: %s' % clf_xgb_optimized.best_params_)\n",
        "# Best training data accuracy\n",
        "print('Best GridSearchCV training accuracy: %.3f' % clf_xgb_optimized.best_score_)"
      ],
      "execution_count": 0,
      "outputs": [
        {
          "output_type": "stream",
          "text": [
            "Best params: {'learning_rate': 0.1, 'max_depth': 5, 'min_child_weight': 1}\n",
            "Best GridSearchCV training accuracy: 0.847\n"
          ],
          "name": "stdout"
        }
      ]
    },
    {
      "cell_type": "code",
      "metadata": {
        "colab_type": "code",
        "id": "5E9X_433Yttf",
        "colab": {}
      },
      "source": [
        "# Train model on full training split w/ best params determined by GridSearchCV \n",
        "clf_xgb = XGBClassifier(learning_rate= 0.1, max_depth= 5, min_child_weight = 1)\n",
        "clf_xgb_optimized = clf_xgb.fit(X_train, y_train)\n",
        "# Make predictions w/ best params\n",
        "y_pred = clf_xgb_optimized.predict(X_test)"
      ],
      "execution_count": 0,
      "outputs": []
    },
    {
      "cell_type": "code",
      "metadata": {
        "colab_type": "code",
        "outputId": "eca95dd4-d72a-4a8d-b0a0-8dc3a967c227",
        "id": "zZq5voy3Ytti",
        "colab": {
          "base_uri": "https://localhost:8080/",
          "height": 34
        }
      },
      "source": [
        "from sklearn.metrics import accuracy_score\n",
        "# Test data accuracy of model with best params\n",
        "print('Test set accuracy score for XGBoost Classifier w/ best params: %.3f ' % accuracy_score(y_test, y_pred))"
      ],
      "execution_count": 0,
      "outputs": [
        {
          "output_type": "stream",
          "text": [
            "Test set accuracy score for XGBoost Classifier w/ best params: 0.844 \n"
          ],
          "name": "stdout"
        }
      ]
    },
    {
      "cell_type": "code",
      "metadata": {
        "id": "MN_Rlj-kigrJ",
        "colab_type": "code",
        "outputId": "dc846cf2-2ad1-4554-aa2f-8d28c5c8d645",
        "colab": {
          "base_uri": "https://localhost:8080/",
          "height": 174
        }
      },
      "source": [
        "# Set up classification report and confusion matrix\n",
        "from sklearn import metrics\n",
        "from sklearn.metrics import confusion_matrix\n",
        "print(metrics.classification_report(y_test, y_pred, target_names = ['0', '1']))\n",
        "clf_xgb_cnf = confusion_matrix(y_test, y_pred)"
      ],
      "execution_count": 0,
      "outputs": [
        {
          "output_type": "stream",
          "text": [
            "              precision    recall  f1-score   support\n",
            "\n",
            "           0       0.84      0.36      0.50      4422\n",
            "           1       0.84      0.98      0.91     15578\n",
            "\n",
            "    accuracy                           0.84     20000\n",
            "   macro avg       0.84      0.67      0.71     20000\n",
            "weighted avg       0.84      0.84      0.82     20000\n",
            "\n"
          ],
          "name": "stdout"
        }
      ]
    },
    {
      "cell_type": "code",
      "metadata": {
        "id": "Gl20je7sivv4",
        "colab_type": "code",
        "outputId": "2f32577f-5ed8-4b38-d8ec-acb24d210d16",
        "colab": {
          "base_uri": "https://localhost:8080/",
          "height": 678
        }
      },
      "source": [
        "# plot confusion matrix without and with normalization\n",
        "from sklearn.metrics import plot_confusion_matrix\n",
        "\n",
        "class_names = ['0', '1']\n",
        "titles_options = [(\"Confusion matrix, without normalization\", None),\n",
        "                  (\"Normalized confusion matrix\", 'true')]\n",
        "for title, normalize in titles_options:\n",
        "    disp = plot_confusion_matrix(clf_xgb_optimized, X_test, y_test,\n",
        "                                 display_labels=class_names,\n",
        "                                 cmap=plt.cm.Blues,\n",
        "                                 normalize=normalize)\n",
        "    disp.ax_.set_title(title)\n",
        "\n",
        "    print(title)\n",
        "    print(disp.confusion_matrix)\n",
        "\n",
        "plt.show()"
      ],
      "execution_count": 0,
      "outputs": [
        {
          "output_type": "stream",
          "text": [
            "Confusion matrix, without normalization\n",
            "[[ 1591  2831]\n",
            " [  299 15279]]\n",
            "Normalized confusion matrix\n",
            "[[0.35979195 0.64020805]\n",
            " [0.01919373 0.98080627]]\n"
          ],
          "name": "stdout"
        },
        {
          "output_type": "display_data",
          "data": {
            "image/png": "[encoded data removed]",
            "text/plain": [
              "<Figure size 432x288 with 2 Axes>"
            ]
          },
          "metadata": {
            "tags": []
          }
        },
        {
          "output_type": "display_data",
          "data": {
            "image/png": "[encoded data removed]",
            "text/plain": [
              "<Figure size 432x288 with 2 Axes>"
            ]
          },
          "metadata": {
            "tags": []
          }
        }
      ]
    },
    {
      "cell_type": "markdown",
      "metadata": {
        "id": "6VBBtrv1kgJA",
        "colab_type": "text"
      },
      "source": [
        "XGBoost does a pretty good job on the binary dataset.  With 84.4% accuracy, this is also a pretty big overall improvement versus the 5-class dataset.  \n",
        "\n",
        "Based on the confusion matrix, it looks like XGBoost actually does a better job of classifying positive reviews ('1') than Logistic Regression.  It seems XGBoost may be more succeptible to imbalanced classification, and is over-assigning to the dominant class.  64% of negative reviews are incorrectly predicted as positive reviews."
      ]
    },
    {
      "cell_type": "markdown",
      "metadata": {
        "id": "20Xqx_eNmVPE",
        "colab_type": "text"
      },
      "source": [
        "## Optimized Model Comparison - Binary Data"
      ]
    },
    {
      "cell_type": "markdown",
      "metadata": {
        "id": "XLNUhz1rnsl1",
        "colab_type": "text"
      },
      "source": [
        "By employing GridSearchCV once again, I trained models with decent accuracy.  Compared to each model's performance in the multiclass case, the performance in the binary case was much better. \n",
        "\n",
        "Logistic Regression: \n",
        " * Multiclass Accuracy: 73.6%\n",
        " * Binary Accuracy: 89.7% \n",
        "\n",
        "XGBoost:\n",
        " * Multiclass Accuracy: 70.2%\n",
        " * Binary Accuracy: 84.4%\n",
        "\n",
        "However, both models were succeptible to class imbalance, and had fairly high error rates assigning due to the negative class to the positive class.\n",
        "\n",
        "Overall, Logistic Regression is the clear winner. With better classification accuracy in both the multiclass and binary cases, and computing substantially faster, it's the clear choice.  \n",
        "\n",
        "Follow-up study could try to optimize Logistic Regression further.  In particular, dropping the potentially confusing 3-star class and binarizing 'negative' reviews as 1- and 2-stars and positive reviews as 4- and 5-stars.  Kernels posted to Kaggle performed a similar approach to binary classification and had substantially better performance.  "
      ]
    }
  ]
}